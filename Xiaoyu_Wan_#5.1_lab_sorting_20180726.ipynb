{
 "cells": [
  {
   "cell_type": "markdown",
   "metadata": {
    "button": false,
    "new_sheet": false,
    "run_control": {
     "read_only": false
    }
   },
   "source": [
    "# Lab 11: Sorting"
   ]
  },
  {
   "cell_type": "markdown",
   "metadata": {
    "button": false,
    "new_sheet": false,
    "run_control": {
     "read_only": false
    }
   },
   "source": [
    "## <font color=DarkRed>Your Exercise: Analyse Sorting Algorithms.</font>\n",
    "\n",
    "Using random number generation (as I have done in class) use timing analysis to compare Bubblesort, InsertionSort, Selectionsort, Shellsort, Mergesort, Quicksort.\n",
    "\n",
    "This will require lists larger than 500 to get good timings. Adjust for your computer's capabilities. Provide meaningful plots of these results using Matplotlib."
   ]
  },
  {
   "cell_type": "markdown",
   "metadata": {
    "button": false,
    "new_sheet": false,
    "run_control": {
     "read_only": false
    }
   },
   "source": [
    "## <font color=green>Your Solution</font>\n",
    "\n",
    "*Use a variety of code, Markdown (text) cells below to create your solution. Nice outputs would be timing results, and even plots. You will be graded not only on correctness, but the clarity of your code, descriptive text and other output. Keep it succinct!*"
   ]
  },
  {
   "cell_type": "code",
   "execution_count": 72,
   "metadata": {},
   "outputs": [],
   "source": [
    "# Define Bubble_sort \n",
    "def bubble_sort(alist):\n",
    "    for passnum in range(len(alist)-1,0,-1):\n",
    "        for i in range(passnum):\n",
    "            if alist[i]>alist[i+1]:\n",
    "                temp = alist[i]\n",
    "                alist[i]=alist[i+1]\n",
    "                alist[i+1]=temp"
   ]
  },
  {
   "cell_type": "code",
   "execution_count": 73,
   "metadata": {},
   "outputs": [],
   "source": [
    "# Define insertion sort \n",
    "def insertion_sort(alist):\n",
    "    for index in range(1, len(alist)):\n",
    "        current_value = alist[index]\n",
    "        position = index\n",
    "        \n",
    "        while position > 0 and alist[position-1] > current_value:\n",
    "            alist[position] = alist[position - 1]\n",
    "            position = position-1\n",
    "            \n",
    "        alist[position] = current_value"
   ]
  },
  {
   "cell_type": "code",
   "execution_count": 74,
   "metadata": {},
   "outputs": [],
   "source": [
    "# Define Merge sort \n",
    "def merge_sort(alist):\n",
    "    #print(\"Splitting \", alist)\n",
    "    \n",
    "    if len(alist) > 1:\n",
    "        mid = len(alist)//2\n",
    "        lefthalf = alist[:mid]\n",
    "        righthalf = alist[mid:]\n",
    "        \n",
    "        merge_sort(lefthalf)\n",
    "        merge_sort(righthalf)\n",
    "        \n",
    "        i = 0\n",
    "        j = 0\n",
    "        k = 0\n",
    "        \n",
    "        while i < len(lefthalf) and j < len(righthalf):\n",
    "            if lefthalf[i] < righthalf[j]:\n",
    "                alist[k] = lefthalf[i]\n",
    "                i += 1\n",
    "            else:\n",
    "                alist[k] = righthalf[j]\n",
    "                j += 1\n",
    "                \n",
    "            k += 1\n",
    "                \n",
    "        while i < len(lefthalf):\n",
    "            alist[k] = lefthalf[i]\n",
    "            i += 1\n",
    "            k += 1\n",
    "            \n",
    "        while j < len(righthalf):\n",
    "            alist[k] = righthalf[j]\n",
    "            j += 1\n",
    "            k += 1"
   ]
  },
  {
   "cell_type": "code",
   "execution_count": 75,
   "metadata": {},
   "outputs": [],
   "source": [
    "# Define selection sort \n",
    "def selection_sort(alist):\n",
    "    for fillslot in range(len(alist)-1, 0, -1):\n",
    "        position_of_max = 0\n",
    "        \n",
    "        for location in range(1, fillslot+1):\n",
    "            if alist[location] > alist[position_of_max]:\n",
    "                position_of_max = location\n",
    "                \n",
    "        temp = alist[fillslot]\n",
    "        alist[fillslot] = alist[position_of_max]\n",
    "        alist[position_of_max] = temp"
   ]
  },
  {
   "cell_type": "code",
   "execution_count": 76,
   "metadata": {},
   "outputs": [],
   "source": [
    "# Define shell sort \n",
    "def shell_sort(alist):\n",
    "    gap = 2\n",
    "    sublistcount = len(alist)//gap  # \"gap\" == 2\n",
    "    \n",
    "    while sublistcount > 0:\n",
    "        for startposition in range(sublistcount):\n",
    "            gap_insertion_sort(alist, startposition, sublistcount)\n",
    "        \n",
    "        if len(alist) <= 15:\n",
    "            print(\"After increments of size\", sublistcount, \"The list is\", alist)\n",
    "        \n",
    "        sublistcount = sublistcount // gap\n",
    "        \n",
    "def gap_insertion_sort(alist, start, gap):\n",
    "    for i in range(start+gap, len(alist), gap):\n",
    "        current_value = alist[i]\n",
    "        position = i\n",
    "        \n",
    "        while (position >= gap and\n",
    "               alist[position-gap] > current_value):\n",
    "               \n",
    "                alist[position] = alist[position-gap]\n",
    "                position = position - gap\n",
    "                \n",
    "        alist[position] = current_value"
   ]
  },
  {
   "cell_type": "code",
   "execution_count": 77,
   "metadata": {},
   "outputs": [],
   "source": [
    "# Define quick sort \n",
    "def quick_sort(alist):\n",
    "    quick_sort_helper(alist, 0, len(alist)-1)\n",
    "    \n",
    "def quick_sort_helper(alist, first, last):\n",
    "    if first < last:\n",
    "        splitpoint = partition(alist, first, last)\n",
    "        \n",
    "        quick_sort_helper(alist, first, splitpoint-1)\n",
    "        quick_sort_helper(alist, splitpoint+1, last)\n",
    "        \n",
    "def partition(alist, first, last):\n",
    "    pivotvalue = alist[first]\n",
    "    \n",
    "    leftmark = first+1\n",
    "    rightmark = last\n",
    "    \n",
    "    done = False\n",
    "    \n",
    "    while not done:\n",
    "        while (leftmark <= rightmark and\n",
    "               alist[leftmark] <= pivotvalue):\n",
    "            leftmark += 1\n",
    "            \n",
    "        while (rightmark >= leftmark and\n",
    "               alist[rightmark] >= pivotvalue):\n",
    "            rightmark -= 1\n",
    "            \n",
    "        if rightmark < leftmark:\n",
    "            done = True\n",
    "        else:\n",
    "            temp = alist[leftmark]\n",
    "            alist[leftmark] = alist[rightmark]\n",
    "            alist[rightmark] = temp\n",
    "            \n",
    "    temp = alist[first]\n",
    "    alist[first] = alist[rightmark]\n",
    "    alist[rightmark] = temp\n",
    "    \n",
    "    return rightmark"
   ]
  },
  {
   "cell_type": "markdown",
   "metadata": {},
   "source": [
    "## Ploting the Sorting Time"
   ]
  },
  {
   "cell_type": "code",
   "execution_count": 78,
   "metadata": {},
   "outputs": [],
   "source": [
    "from random import choices"
   ]
  },
  {
   "cell_type": "code",
   "execution_count": 90,
   "metadata": {},
   "outputs": [],
   "source": [
    "# Time different sorting algorithm\n",
    "import timeit\n",
    "import copy\n",
    "\n",
    "# Build the dictionary in order to plot the sorting algorithm \n",
    "bubble_times = dict()\n",
    "insert_times = dict()\n",
    "select_times = dict()\n",
    "shell_times = dict()\n",
    "merge_times = dict()\n",
    "quick_times =dict()\n",
    "\n",
    "# set the range for n size numbers \n",
    "for n in range(500, 3000, 100):\n",
    "    nums = choices(range(2_000_000),k = n)\n",
    "    \n",
    "# Time each sorting algorithm with the same unsorted list \n",
    "    bubble_nums = copy.deepcopy(nums)\n",
    "    bubble_t = timeit.Timer(\"bubble_sort(nums)\", globals={\"bubble_sort\":bubble_sort,\"nums\": bubble_nums})\n",
    "    bubble_times[n] = bubble_t.timeit(1) # Append n size as key and time as value to the dictionary\n",
    "    \n",
    "                                                          \n",
    "    insert_nums = copy.deepcopy(nums)\n",
    "    insert_t = timeit.Timer(\"insertion_sort(nums)\", globals={\"insertion_sort\":insertion_sort,\"nums\": insert_nums})\n",
    "    insert_times[n] = insert_t.timeit(1)\n",
    "    \n",
    "    select_nums = copy.deepcopy(nums)\n",
    "    select_t = timeit.Timer(\"selection_sort(nums)\", globals={\"selection_sort\":selection_sort,\"nums\": select_nums})\n",
    "    select_times[n]= select_t.timeit(1)\n",
    "    \n",
    "    shell_nums = copy.deepcopy(nums)\n",
    "    shell_t = timeit.Timer(\"shell_sort(nums)\", globals={\"shell_sort\":shell_sort,\"nums\": shell_nums})\n",
    "    shell_times[n]= shell_t.timeit(1)\n",
    "    \n",
    "    merge_nums = copy.deepcopy(nums)\n",
    "    merge_t = timeit.Timer(\"merge_sort(nums)\", globals={\"merge_sort\":merge_sort,\"nums\": merge_nums})\n",
    "    merge_times[n]= merge_t.timeit(1)\n",
    "    \n",
    "    quick_nums = copy.deepcopy(nums)\n",
    "    quick_t = timeit.Timer(\"quick_sort(nums)\", globals={\"quick_sort\":quick_sort,\"nums\": quick_nums})\n",
    "    quick_times[n]= quick_t.timeit(1)\n"
   ]
  },
  {
   "cell_type": "code",
   "execution_count": 96,
   "metadata": {},
   "outputs": [
    {
     "data": {
      "image/png": "[encoded data removed]",
      "text/plain": [
       "<matplotlib.figure.Figure at 0x1197ade10>"
      ]
     },
     "metadata": {},
     "output_type": "display_data"
    }
   ],
   "source": [
    "# Plot the running time for sorting algorithm with O(n**2)\n",
    "import matplotlib.pyplot as plt\n",
    "\n",
    "l1,=plt.plot(bubble_times.keys(), bubble_times.values(), 'ro',label=\"bubble\")\n",
    "l2,=plt.plot(insert_times.keys(),insert_times.values(), 'bo',label=\"insert\")\n",
    "l3,=plt.plot(select_times.keys(), select_times.values(), 'go',label=\"select\")\n",
    "\n",
    "plt.axis([500,3000,0,1])\n",
    "plt.title(\"Running Time for Sorting Algorithm\")\n",
    "plt.xlabel(\"Input Size (n)\")\n",
    "plt.ylabel(\"Running time(s)\")\n",
    "legend=plt.legend([l1,l2,l3])\n",
    "plt.show()"
   ]
  },
  {
   "cell_type": "code",
   "execution_count": 95,
   "metadata": {},
   "outputs": [
    {
     "data": {
      "image/png": "[encoded data removed]",
      "text/plain": [
       "<matplotlib.figure.Figure at 0x1199e52b0>"
      ]
     },
     "metadata": {},
     "output_type": "display_data"
    }
   ],
   "source": [
    "# Plot the running time for sorting algorithm with O(nlogn)\n",
    "l4,=plt.plot(shell_times.keys(), shell_times.values(), 'mo',label=\"shell\")\n",
    "l5,=plt.plot(merge_times.keys(), merge_times.values(), 'yo',label=\"merge\")\n",
    "l6,=plt.plot(quick_times.keys(), quick_times.values(), 'co',label=\"quick\")\n",
    "plt.axis([500,3000,0,0.02])\n",
    "plt.title(\"Running Time for Sorting Algorithm\")\n",
    "plt.xlabel(\"Input Size (n)\")\n",
    "plt.ylabel(\"Running time(s)\")\n",
    "legend=plt.legend([l4,l5,l6])\n",
    "plt.show()"
   ]
  }
 ],
 "metadata": {
  "kernelspec": {
   "display_name": "Python 3",
   "language": "python",
   "name": "python3"
  },
  "language_info": {
   "codemirror_mode": {
    "name": "ipython",
    "version": 3
   },
   "file_extension": ".py",
   "mimetype": "text/x-python",
   "name": "python",
   "nbconvert_exporter": "python",
   "pygments_lexer": "ipython3",
   "version": "3.6.5"
  }
 },
 "nbformat": 4,
 "nbformat_minor": 2
}
