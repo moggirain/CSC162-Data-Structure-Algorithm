{
 "cells": [
  {
   "cell_type": "markdown",
   "metadata": {
    "button": false,
    "new_sheet": false,
    "run_control": {
     "read_only": false
    }
   },
   "source": [
    "# Lab 17: Graphs: Breadth-First Searching"
   ]
  },
  {
   "cell_type": "markdown",
   "metadata": {
    "button": false,
    "new_sheet": false,
    "run_control": {
     "read_only": false
    }
   },
   "source": [
    "## <font color=DarkRed>Your Exercise: All Pairs Shortest Path</font>\n",
    "\n",
    "Using breadth first search write an algorithm that can determine the shortest path from each vertex to every other vertex. This is called the all pairs shortest path problem."
   ]
  },
  {
   "cell_type": "markdown",
   "metadata": {
    "button": false,
    "new_sheet": false,
    "run_control": {
     "read_only": false
    }
   },
   "source": [
    "## <font color=green>Your Solution</font>\n",
    "\n",
    "*Use a variety of code, Markdown (text) cells below to create your solution. Nice outputs would be timing results, and even plots. You will be graded not only on correctness, but the clarity of your code, descriptive text and other output. Keep it succinct!*"
   ]
  },
  {
   "cell_type": "code",
   "execution_count": 40,
   "metadata": {
    "button": false,
    "new_sheet": false,
    "run_control": {
     "read_only": false
    }
   },
   "outputs": [],
   "source": [
    "from pythonds.graphs import Graph, Vertex, PriorityQueue\n",
    "import sys"
   ]
  },
  {
   "cell_type": "code",
   "execution_count": 41,
   "metadata": {},
   "outputs": [],
   "source": [
    "# Define a Graph \n",
    "class Graph:\n",
    "    def __init__(self):\n",
    "        self.vertices = {}\n",
    "        self.numVertices = 0\n",
    "        \n",
    "    def addVertex(self,key):\n",
    "        self.numVertices = self.numVertices + 1\n",
    "        newVertex = Vertex(key)\n",
    "        self.vertices[key] = newVertex\n",
    "        return newVertex\n",
    "    \n",
    "    def getVertex(self,n):\n",
    "        if n in self.vertices:\n",
    "            return self.vertices[n]\n",
    "        else:\n",
    "            return None\n",
    "\n",
    "    def __contains__(self,n):\n",
    "        return n in self.vertices\n",
    "    \n",
    "    def addEdge(self,f,t,cost=0):\n",
    "            if f not in self.vertices:\n",
    "                nv = self.addVertex(f)\n",
    "            if t not in self.vertices:\n",
    "                nv = self.addVertex(t)\n",
    "            self.vertices[f].addNeighbor(self.vertices[t],cost)\n",
    "            self.vertices[t].addNeighbor(self.vertices[f],cost)\n",
    "    \n",
    "    def getVertices(self):\n",
    "        return list(self.vertices.keys())\n",
    "        \n",
    "    def __iter__(self):\n",
    "        return iter(self.vertices.values())\n",
    "      "
   ]
  },
  {
   "cell_type": "code",
   "execution_count": 42,
   "metadata": {},
   "outputs": [],
   "source": [
    "# Define Vertex\n",
    "class Vertex:\n",
    "    def __init__(self,num):\n",
    "        self.id = num\n",
    "        self.connectedTo = {}\n",
    "        self.color = 'white'\n",
    "        self.dist = sys.maxsize\n",
    "        self.pred = None\n",
    "        self.disc = 0\n",
    "        self.fin = 0\n",
    "\n",
    "    # def __lt__(self,o):\n",
    "    #     return self.id < o.id\n",
    "    \n",
    "    def addNeighbor(self,nbr,weight=0):\n",
    "        self.connectedTo[nbr] = weight\n",
    "        \n",
    "    def setColor(self,color):\n",
    "        self.color = color\n",
    "        \n",
    "    def setDistance(self,d):\n",
    "        self.dist = d\n",
    "\n",
    "    def setPred(self,p):\n",
    "        self.pred = p\n",
    "\n",
    "    def setDiscovery(self,dtime):\n",
    "        self.disc = dtime\n",
    "        \n",
    "    def setFinish(self,ftime):\n",
    "        self.fin = ftime\n",
    "        \n",
    "    def getFinish(self):\n",
    "        return self.fin\n",
    "        \n",
    "    def getDiscovery(self):\n",
    "        return self.disc\n",
    "        \n",
    "    def getPred(self):\n",
    "        return self.pred\n",
    "        \n",
    "    def getDistance(self):\n",
    "        return self.dist\n",
    "        \n",
    "    def getColor(self):\n",
    "        return self.color\n",
    "    \n",
    "    def getConnections(self):\n",
    "        return self.connectedTo.keys()\n",
    "        \n",
    "    def getWeight(self,nbr):\n",
    "        return self.connectedTo[nbr]\n",
    "                \n",
    "    def __str__(self):\n",
    "        return str(self.id) + \":color \" + self.color + \":disc \" + str(self.disc) + \":fin \" + str(self.fin) + \":dist \" + str(self.dist) + \":pred \\n\\t[\" + str(self.pred)+ \"]\\n\"\n",
    "    \n",
    "    def getId(self):\n",
    "        return self.id\n"
   ]
  },
  {
   "cell_type": "code",
   "execution_count": 43,
   "metadata": {},
   "outputs": [],
   "source": [
    "# Define dijkstra to find the shortest path \n",
    "\"\"\"Find the shorted path approach through the shortest distance\"\"\"\n",
    "def dijkstra(aGraph,start):\n",
    "    pq = PriorityQueue() # Build a priority queue \n",
    "    start.setDistance(0) # Set the start distance (to self) as 0\n",
    "    pq.buildHeap([(v.getDistance(),v) for v in aGraph]) # Use the distance as the priority # Build a list of tuple(key-distance,value-vertext)\n",
    "    while not pq.isEmpty():\n",
    "        currentVert = pq.delMin() #pop the min vertex-return the value \n",
    "        for nextVert in currentVert.getConnections(): # use the BFS to find the next smallest vertex\n",
    "            newDist = currentVert.getDistance() + currentVert.getWeight(nextVert) # calculate the distance from the start to the current vertex\n",
    "            if newDist < nextVert.getDistance(): # compare the new distance to the previous distance\n",
    "                nextVert.setDistance(newDist)# set the new shortest distance\n",
    "                nextVert.setPred(currentVert) # replace the previous visited vertex \n",
    "                pq.decreaseKey(nextVert,newDist) # delete the visited vertex and distance-already reduced"
   ]
  },
  {
   "cell_type": "markdown",
   "metadata": {
    "button": false,
    "new_sheet": false,
    "run_control": {
     "read_only": false
    }
   },
   "source": [
    "## Testing\n",
    "\n",
    "Test out your solution to show it works as advertised. Use textutal output, or, if you can, perhaps using a program like `graphviz`."
   ]
  },
  {
   "cell_type": "code",
   "execution_count": 44,
   "metadata": {},
   "outputs": [],
   "source": [
    "# Create the graph \n",
    "def createGraph():\n",
    "    g = Graph()\n",
    "    for i in range(6):\n",
    "        g.addVertex(i)\n",
    "    g.addEdge(0,1,5)\n",
    "    g.addEdge(0,5,2)\n",
    "    g.addEdge(1,2,4)\n",
    "    g.addEdge(2,3,9)\n",
    "    g.addEdge(3,4,7)\n",
    "    g.addEdge(3,5,3)\n",
    "    g.addEdge(4,0,1)\n",
    "    return g\n",
    "# reset the distance after running dijkstra as the initial value to continue \n",
    "def resetDistance(g):\n",
    "    for v in g:\n",
    "        v.setDistance(sys.maxsize)\n",
    "        v.setPred(None)"
   ]
  },
  {
   "cell_type": "code",
   "execution_count": 45,
   "metadata": {
    "button": false,
    "new_sheet": false,
    "run_control": {
     "read_only": false
    }
   },
   "outputs": [
    {
     "name": "stdout",
     "output_type": "stream",
     "text": [
      "From 0\n",
      "To 1's shortest distance is 5 through 0\n",
      "To 2's shortest distance is 9 through 1\n",
      "To 3's shortest distance is 5 through 5\n",
      "To 4's shortest distance is 1 through 0\n",
      "To 5's shortest distance is 2 through 0\n",
      "From 1\n",
      "To 0's shortest distance is 5 through 1\n",
      "To 2's shortest distance is 4 through 1\n",
      "To 3's shortest distance is 10 through 5\n",
      "To 4's shortest distance is 6 through 0\n",
      "To 5's shortest distance is 7 through 0\n",
      "From 2\n",
      "To 0's shortest distance is 9 through 1\n",
      "To 1's shortest distance is 4 through 2\n",
      "To 3's shortest distance is 9 through 2\n",
      "To 4's shortest distance is 10 through 0\n",
      "To 5's shortest distance is 11 through 0\n",
      "From 3\n",
      "To 0's shortest distance is 5 through 5\n",
      "To 1's shortest distance is 10 through 0\n",
      "To 2's shortest distance is 9 through 3\n",
      "To 4's shortest distance is 6 through 0\n",
      "To 5's shortest distance is 3 through 3\n",
      "From 4\n",
      "To 0's shortest distance is 1 through 4\n",
      "To 1's shortest distance is 6 through 0\n",
      "To 2's shortest distance is 10 through 1\n",
      "To 3's shortest distance is 6 through 5\n",
      "To 5's shortest distance is 3 through 0\n",
      "From 5\n",
      "To 0's shortest distance is 2 through 5\n",
      "To 1's shortest distance is 7 through 0\n",
      "To 2's shortest distance is 11 through 1\n",
      "To 3's shortest distance is 3 through 5\n",
      "To 4's shortest distance is 3 through 0\n"
     ]
    }
   ],
   "source": [
    "g = createGraph()\n",
    "for start in g:\n",
    "    dijkstra(g,start)\n",
    "    print(\"From \" + str(start.getId())) \n",
    "    for v in g:\n",
    "        if v != start:\n",
    "            print(\"To \" + str(v.getId()) + \"'s shortest distance is \" + str(v.getDistance()) + \" through \" + str(v.getPred().getId()))\n",
    "    resetDistance(g)"
   ]
  }
 ],
 "metadata": {
  "kernelspec": {
   "display_name": "Python 3",
   "language": "python",
   "name": "python3"
  },
  "language_info": {
   "codemirror_mode": {
    "name": "ipython",
    "version": 3
   },
   "file_extension": ".py",
   "mimetype": "text/x-python",
   "name": "python",
   "nbconvert_exporter": "python",
   "pygments_lexer": "ipython3",
   "version": "3.6.5"
  }
 },
 "nbformat": 4,
 "nbformat_minor": 2
}
