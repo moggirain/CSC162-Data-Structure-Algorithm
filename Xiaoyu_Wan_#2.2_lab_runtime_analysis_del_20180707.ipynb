{
 "cells": [
  {
   "cell_type": "markdown",
   "metadata": {
    "button": false,
    "new_sheet": false,
    "run_control": {
     "read_only": false
    }
   },
   "source": [
    "# Lab 2: Runtime Analysis"
   ]
  },
  {
   "cell_type": "markdown",
   "metadata": {
    "button": false,
    "new_sheet": false,
    "run_control": {
     "read_only": false
    }
   },
   "source": [
    "## <font color=DarkRed>Your Exercise: Performance of `del` keyword</font>\n",
    "\n",
    "Devise an experiment that compares the performance of the `del` operator on lists and dictionaries."
   ]
  },
  {
   "cell_type": "markdown",
   "metadata": {
    "button": false,
    "new_sheet": false,
    "run_control": {
     "read_only": false
    }
   },
   "source": [
    "## <font color=green>Your Solution</font>\n",
    "\n",
    "*Use a variety of code, Markdown (text) cells below to create your solution. Nice outputs would be timing results, and even plots. You will be graded not only on correctness, but the clarity of your code, descriptive text and other output. Keep it succinct.*"
   ]
  },
  {
   "cell_type": "code",
   "execution_count": 11,
   "metadata": {
    "button": false,
    "new_sheet": false,
    "run_control": {
     "read_only": false
    }
   },
   "outputs": [],
   "source": [
    "import timeit\n",
    "import random\n",
    "import matplotlib.pyplot as plt\n",
    "\n",
    "# Create the global variables lst1, lst2 & dic\n",
    "global lst1\n",
    "global lst2\n",
    "global dic\n",
    "\n",
    "# Create the list & dictionary with the size x\n",
    "def makeListSize(x):\n",
    "    global lst1\n",
    "    global lst2\n",
    "    global dic\n",
    "\n",
    "    # Make two lists of random 'data with range x'\n",
    "    lst1 = [random.random() for i in range(x)]\n",
    "    lst2 = [random.random() for i in range(x)]\n",
    "\n",
    "    # Create a dictionary of key:val pairs using these two lists\n",
    "    dic = dict(zip(lst1,lst2)) \n",
    "\n",
    "# create two functions for testing deletion of a list and a dictionary\n",
    "# Solution 1: Delete random number \n",
    "def del_lst():\n",
    "    del lst1[random.randint(0, len(lst1)-1)]\n",
    "\n",
    "def del_dic():\n",
    "    del dic[list(dic.keys())[random.randint(0, len(dic)-1)]]\n",
    "    \n",
    "# Solution 2: Delete the first number consecutively \n",
    "def del_alist():\n",
    "    del alist[0]\n",
    "def del_dic():\n",
    "    d_keys=list(dic.keys())\n",
    "    del dic[d_keys[0]]\n",
    "    \n",
    "# Time the deletion for the list and dictionary \n",
    "    \n",
    "lst_DelTime = timeit.Timer(\"del_lst()\", \"from __main__ import del_lst\")\n",
    "dic_DelTime = timeit.Timer(\"del_dic()\", \"from __main__ import del_dic\") \n",
    "\n",
    "# Build the dictionary in order to plot the list and the dictionary  \n",
    "lt_times = dict()\n",
    "dt_times = dict()\n",
    "for i in range(1000,10001,500):\n",
    "    makeListSize(i)\n",
    "    lt = lst_DelTime.timeit(number=i)\n",
    "    dt = dic_DelTime.timeit(number=i)\n",
    "    lt_times[i] = lt\n",
    "    dt_times[i]= dt"
   ]
  },
  {
   "cell_type": "markdown",
   "metadata": {
    "button": false,
    "new_sheet": false,
    "run_control": {
     "read_only": false
    }
   },
   "source": [
    "## Testing\n",
    "\n",
    "For full credit, you must also test your solution so that you can prove to the grade your solution works."
   ]
  },
  {
   "cell_type": "code",
   "execution_count": 12,
   "metadata": {
    "button": false,
    "new_sheet": false,
    "run_control": {
     "read_only": false
    }
   },
   "outputs": [
    {
     "name": "stdout",
     "output_type": "stream",
     "text": [
      "del_lst takes 0.015548465002211742 milliseconds\n",
      "del_dic takes 0.1583007360022748 milliseconds\n"
     ]
    }
   ],
   "source": [
    "makeListSize(6000)\n",
    "\n",
    "# Set the test for timing the deletion \n",
    "t1 = timeit.Timer(\"del_lst()\", \"from __main__ import del_lst\")\n",
    "print(\"del_lst takes\",t1.timeit(number=6000), \"milliseconds\")\n",
    "    \n",
    "t2 = timeit.Timer(\"del_dic()\", \"from __main__ import del_dic\")\n",
    "print(\"del_dic takes\",t2.timeit(number=6000), \"milliseconds\")"
   ]
  },
  {
   "cell_type": "code",
   "execution_count": 13,
   "metadata": {},
   "outputs": [
    {
     "name": "stdout",
     "output_type": "stream",
     "text": [
      "del_lst takes 0.029998179990798235 milliseconds\n",
      "del_dic takes 0.45104972599074244 milliseconds\n"
     ]
    }
   ],
   "source": [
    "makeListSize(10000)\n",
    "\n",
    "# Set the test for timing the deletion \n",
    "t1 = timeit.Timer(\"del_lst()\", \"from __main__ import del_lst\")\n",
    "print(\"del_lst takes\",t1.timeit(number=10000), \"milliseconds\")\n",
    "    \n",
    "t2 = timeit.Timer(\"del_dic()\", \"from __main__ import del_dic\")\n",
    "print(\"del_dic takes\",t2.timeit(number=10000), \"milliseconds\")"
   ]
  },
  {
   "cell_type": "code",
   "execution_count": 14,
   "metadata": {},
   "outputs": [
    {
     "name": "stdout",
     "output_type": "stream",
     "text": [
      "lst_DelTime() dic_DelTime()\n"
     ]
    }
   ],
   "source": [
    "print(\"lst_DelTime() dic_DelTime()\")\n",
    "lt_times = dict()\n",
    "dt_times = dict()\n",
    "for i in range(1000,10001,500):\n",
    "    makeListSize(i)\n",
    "    lt = lst_DelTime.timeit(number=i)\n",
    "    dt = dic_DelTime.timeit(number=i)\n",
    "    lt_times[i] = lt\n",
    "    dt_times[i]= dt"
   ]
  },
  {
   "cell_type": "code",
   "execution_count": 15,
   "metadata": {},
   "outputs": [
    {
     "data": {
      "image/png": "[encoded data removed]",
      "text/plain": [
       "<Figure size 432x288 with 1 Axes>"
      ]
     },
     "metadata": {},
     "output_type": "display_data"
    }
   ],
   "source": [
    "# Plot the running time for the list and the dictionary \n",
    "\n",
    "l1,=plt.plot(list(lt_times.keys()), list(lt_times.values()), 'ro',label=\"list\")\n",
    "l2,=plt.plot(list(dt_times.keys()), list(dt_times.values()), 'b^',label=\"dictionary\")\n",
    "plt.axis([1000,10000,0,0.2])\n",
    "plt.title(\"Running time for List & Dictionary\")\n",
    "plt.xlabel(\"Input Deletion Size\")\n",
    "plt.ylabel(\"Running time(ms)\")\n",
    "legend=plt.legend([l1,l2])\n",
    "plt.show()"
   ]
  }
 ],
 "metadata": {
  "kernelspec": {
   "display_name": "Python 3",
   "language": "python",
   "name": "python3"
  },
  "language_info": {
   "codemirror_mode": {
    "name": "ipython",
    "version": 3
   },
   "file_extension": ".py",
   "mimetype": "text/x-python",
   "name": "python",
   "nbconvert_exporter": "python",
   "pygments_lexer": "ipython3",
   "version": "3.6.5"
  }
 },
 "nbformat": 4,
 "nbformat_minor": 2
}
