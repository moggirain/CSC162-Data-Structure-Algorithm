{
 "cells": [
  {
   "cell_type": "markdown",
   "metadata": {
    "button": false,
    "new_sheet": false,
    "run_control": {
     "read_only": false
    }
   },
   "source": [
    "# Lab 11: Trees"
   ]
  },
  {
   "cell_type": "markdown",
   "metadata": {
    "button": false,
    "new_sheet": false,
    "run_control": {
     "read_only": false
    }
   },
   "source": [
    "## <font color=DarkRed>Your Exercise: Parsing Expressions with Boolean Operators</font>\n",
    "\n",
    "Modify the `build_parse_tree`, and `evaluate` functions to handle boolean operators (`and`, `or`, and `not`). Remember that `not` is a unary operator, so this will complicate your code somewhat.\n",
    "\n",
    "*Note: While this was a workshop problem partly worked on in class, I have decided that it's challenging enough to be a homework question.*"
   ]
  },
  {
   "cell_type": "markdown",
   "metadata": {
    "button": false,
    "new_sheet": false,
    "run_control": {
     "read_only": false
    }
   },
   "source": [
    "## <font color=green>Your Solution</font>\n",
    "\n",
    "*Use a variety of code, Markdown (text) cells below to create your solution. Nice outputs would be timing results, and even plots. You will be graded not only on correctness, but the clarity of your code, descriptive text and other output. Keep it succinct!*"
   ]
  },
  {
   "cell_type": "code",
   "execution_count": 41,
   "metadata": {},
   "outputs": [],
   "source": [
    "# Define a binary tree\n",
    "class BinaryTree:\n",
    "    def __init__(self, root_obj):  # Set root, and intiator for left and right child \n",
    "        self.key = root_obj\n",
    "        self.left_child = None\n",
    "        self.right_child = None\n",
    "        \n",
    "    def insert_left(self, new_obj): \n",
    "        if self.left_child == None:  # No left child, insert directly \n",
    "            self.left_child = BinaryTree(new_obj)\n",
    "        else:\n",
    "            t = BinaryTree(new_obj) # Have left child, swap with the previous one \n",
    "            t.left_child = self.left_child\n",
    "            self.left_child = t\n",
    "            \n",
    "    def insert_right(self, new_obj): \n",
    "        if self.right_child == None:\n",
    "            self.right_child = BinaryTree(new_obj)\n",
    "        else:\n",
    "            t = BinaryTree(new_obj)\n",
    "            t.right_child = self.right_child\n",
    "            self.right_child = t\n",
    "            \n",
    "    def get_right_child(self):\n",
    "        return self.right_child\n",
    "    \n",
    "    def get_left_child(self):\n",
    "        return self.left_child\n",
    "    \n",
    "    def set_root_val(self, obj):\n",
    "        self.key = obj\n",
    "        \n",
    "    def get_root_val(self):\n",
    "        return self.key"
   ]
  },
  {
   "cell_type": "code",
   "execution_count": 43,
   "metadata": {},
   "outputs": [],
   "source": [
    "from pythonds import Stack"
   ]
  },
  {
   "cell_type": "code",
   "execution_count": 44,
   "metadata": {},
   "outputs": [],
   "source": [
    "# Parse the tree \n",
    "def buildParseTree(fpexp):\n",
    "    fplist = fpexp.split() # Split the token \n",
    "    pStack = Stack()       # Build the stack to track the parent\n",
    "    eTree = BinaryTree('') # Build an empty tree and set the root\n",
    "    pStack.push(eTree)     # the bottom of the stack is the root of the tree \n",
    "    currentTree = eTree    # track curent value \n",
    "    for i in fplist:\n",
    "        if i == '(':    # is the current node is \"(\"\n",
    "            currentTree.insert_left('')\n",
    "            pStack.push(currentTree)\n",
    "            currentTree = currentTree.get_left_child()\n",
    "        elif i not in ['+', '-', '*', '/', ')','not','and','or']: # if the current node is a number \n",
    "            currentTree.set_root_val(int(i))\n",
    "            parent = pStack.pop()\n",
    "            currentTree = parent\n",
    "        elif i in ['+', '-', '*', '/','and','ory  # if the current node is a operator \n",
    "            currentTree.set_root_val(i)\n",
    "            currentTree.insert_right('')\n",
    "            pStack.push(currentTree)\n",
    "            currentTree = currentTree.get_right_child()\n",
    "        elif i ==\"not\":                       # if current node is \"not\", a unary operator \n",
    "            currentTree.set_root_val(i)\n",
    "            currentTree.insert_right('')\n",
    "            currentTree = currentTree.get_right_child()\n",
    "        elif i == ')':                      # is the current node is \")\" \n",
    "            currentTree = pStack.pop()\n",
    "        else:\n",
    "            raise ValueError\n",
    "    return eTree"
   ]
  },
  {
   "cell_type": "code",
   "execution_count": 45,
   "metadata": {},
   "outputs": [],
   "source": [
    "# evaluate the parse tree\n",
    "import operator\n",
    "def evaluate(parse_tree):\n",
    "    opers = {\n",
    "        '+': operator.add,\n",
    "        '-': operator.sub,\n",
    "        '*': operator.mul,\n",
    "        '/': operator.truediv,\n",
    "        'and': booleanAnd,\n",
    "        'or': booleanOr,\n",
    "        'not': operator.not_,\n",
    "    }\n",
    "    \n",
    "    left_c = parse_tree.get_left_child()\n",
    "    right_c = parse_tree.get_right_child()\n",
    "    # Evaluate the situation with left and right child \n",
    "    if left_c and right_c: \n",
    "        fn = opers[parse_tree.get_root_val()]\n",
    "        return fn(evaluate(left_c), evaluate(right_c))\n",
    "     # Evaluate the situation with only right child \n",
    "    elif not left_c and right_c: # evalue the \"not\" situation \n",
    "        fn = opers[parse_tree.get_root_val()]\n",
    "        return fn(evaluate(right_c))\n",
    "     # Evaluate the situation with leaf node\n",
    "    else:\n",
    "        return parse_tree.get_root_val()\n",
    "\n",
    "def booleanAnd(x,y):\n",
    "    return x and y\n",
    "\n",
    "def booleanOr(x,y):\n",
    "    return x or y"
   ]
  },
  {
   "cell_type": "markdown",
   "metadata": {},
   "source": [
    "## Testing\n",
    "\n",
    "Test `build_parse_tree`, and `evaluate` to show that boolean expressions (with, or without arithmetic expressions mixed), work as expected."
   ]
  },
  {
   "cell_type": "code",
   "execution_count": 65,
   "metadata": {},
   "outputs": [
    {
     "name": "stdout",
     "output_type": "stream",
     "text": [
      "<__main__.BinaryTree object at 0x106718320>\n"
     ]
    }
   ],
   "source": [
    "tree = buildParseTree(\"( ( ( ( 10 / 5 ) * 3 ) and ( 3 * 5 ) ) and not ( 0 * 4 ) )\")\n",
    "print(tree)"
   ]
  },
  {
   "cell_type": "code",
   "execution_count": 66,
   "metadata": {},
   "outputs": [
    {
     "name": "stdout",
     "output_type": "stream",
     "text": [
      "True\n"
     ]
    }
   ],
   "source": [
    "result = evaluate(buildParseTree(\"( ( ( ( 10 / 5 ) * 3 ) and ( 3 * 5 ) ) and not ( 0 * 4 ) )\"))\n",
    "print(result)"
   ]
  },
  {
   "cell_type": "code",
   "execution_count": 67,
   "metadata": {},
   "outputs": [
    {
     "data": {
      "text/plain": [
       "True"
      ]
     },
     "execution_count": 67,
     "metadata": {},
     "output_type": "execute_result"
    }
   ],
   "source": [
    "( ( ( ( 10 / 5 ) * 3 ) and ( 3 * 5 ) ) and not ( 0 * 4 ) )"
   ]
  },
  {
   "cell_type": "code",
   "execution_count": 72,
   "metadata": {},
   "outputs": [
    {
     "name": "stdout",
     "output_type": "stream",
     "text": [
      "15\n"
     ]
    }
   ],
   "source": [
    "result = evaluate(buildParseTree(\"( ( 6 / 4 ) and ( 3 * 5 ) )\"))\n",
    "print(result) "
   ]
  },
  {
   "cell_type": "code",
   "execution_count": 69,
   "metadata": {},
   "outputs": [
    {
     "data": {
      "text/plain": [
       "15"
      ]
     },
     "execution_count": 69,
     "metadata": {},
     "output_type": "execute_result"
    }
   ],
   "source": [
    "(6/4) and (3*5)"
   ]
  },
  {
   "cell_type": "code",
   "execution_count": 73,
   "metadata": {},
   "outputs": [
    {
     "name": "stdout",
     "output_type": "stream",
     "text": [
      "3\n"
     ]
    }
   ],
   "source": [
    "result = evaluate(buildParseTree(\"( ( 4 or 2 ) and 3 ) \"))\n",
    "print(result) "
   ]
  },
  {
   "cell_type": "code",
   "execution_count": 75,
   "metadata": {},
   "outputs": [
    {
     "data": {
      "text/plain": [
       "3"
      ]
     },
     "execution_count": 75,
     "metadata": {},
     "output_type": "execute_result"
    }
   ],
   "source": [
    "( 4 or 2 ) and 3 "
   ]
  }
 ],
 "metadata": {
  "kernelspec": {
   "display_name": "Python 3",
   "language": "python",
   "name": "python3"
  },
  "language_info": {
   "codemirror_mode": {
    "name": "ipython",
    "version": 3
   },
   "file_extension": ".py",
   "mimetype": "text/x-python",
   "name": "python",
   "nbconvert_exporter": "python",
   "pygments_lexer": "ipython3",
   "version": "3.6.5"
  }
 },
 "nbformat": 4,
 "nbformat_minor": 2
}
