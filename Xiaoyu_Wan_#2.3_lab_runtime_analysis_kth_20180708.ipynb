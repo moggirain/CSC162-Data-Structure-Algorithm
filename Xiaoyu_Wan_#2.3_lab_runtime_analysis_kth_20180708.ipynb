{
 "cells": [
  {
   "cell_type": "markdown",
   "metadata": {
    "button": false,
    "new_sheet": false,
    "run_control": {
     "read_only": false
    }
   },
   "source": [
    "# Lab 2: Runtime Analysis"
   ]
  },
  {
   "cell_type": "markdown",
   "metadata": {
    "button": false,
    "new_sheet": false,
    "run_control": {
     "read_only": false
    }
   },
   "source": [
    "## <font color=DarkRed>Your Exercise: Find the $k$th Smallest Number</font>\n",
    "\n",
    "Given a list of numbers in random order write a linear time algorithm to find the $k$th smallest number in the list. Explain why your algorithm is linear."
   ]
  },
  {
   "cell_type": "markdown",
   "metadata": {
    "button": false,
    "new_sheet": false,
    "run_control": {
     "read_only": false
    }
   },
   "source": [
    "## <font color=green>Your Solution</font>\n",
    "\n",
    "*Use a variety of code, Markdown (text) cells below to create your solution. Nice outputs would be timing results, and even plots. You will be graded not only on correctness, but the clarity of your code, descriptive text and other output. Keep it succinct.*"
   ]
  },
  {
   "cell_type": "markdown",
   "metadata": {
    "button": false,
    "new_sheet": false,
    "run_control": {
     "read_only": false
    }
   },
   "source": [
    "## Sorting the list of numbers and find the kth smallest number for complexity of O(nlogn) complexity (I tried my best)"
   ]
  },
  {
   "cell_type": "code",
   "execution_count": 48,
   "metadata": {},
   "outputs": [],
   "source": [
    "import random\n",
    "import timeit\n",
    "\n",
    "#Create the FindKSmallest function and sort the array \n",
    "def FindKSmallest(n,k):\n",
    "    array = [random.randint(1,1000) for i in range(n)]\n",
    "    array.sort()\n",
    "    return array[k-1]\n",
    "\n",
    "# Set the timer for the result to find K smallest number \n",
    "timeConsumedResults = []\n",
    "for n in range(100, 3000, 100):\n",
    "    t = timeit.Timer(\"FindKSmallest(n,k)\", globals={\"FindKSmallest\":FindKSmallest,\"n\": n,\"k\":random.randint(1,n)})\n",
    "    # Input timeit for running 100 times\n",
    "    timeConsumedResults.append((n, t.timeit(100)))\n"
   ]
  },
  {
   "cell_type": "markdown",
   "metadata": {
    "button": false,
    "new_sheet": false,
    "run_control": {
     "read_only": false
    }
   },
   "source": [
    "## Testing\n",
    "For full credit, you must also test your solution so that you can prove to the grade your solution works."
   ]
  },
  {
   "cell_type": "markdown",
   "metadata": {
    "button": false,
    "new_sheet": false,
    "run_control": {
     "read_only": false
    }
   },
   "source": [
    "# Explanation: \n",
    "Althrough the theoretical complexity of this algorithum should be O(nlogn),\n",
    "<br>\n",
    "based on the actual number of inputs and their running time, \n",
    "<br>\n",
    "the relationship between number of inputs and the running time is close to linear\n",
    "<br>\n",
    "For example,\n",
    "<br>\n",
    "when n = 100, running time is 0.014654900995083153 milliseconds\n",
    "<br>\n",
    "when n = 300, running time is 0.043356976995710284 milliseconds\n",
    "<br>\n",
    "when n = 1200, running time is 0.17603925699950196 milliseconds\n",
    "and so on as shown below."
   ]
  },
  {
   "cell_type": "code",
   "execution_count": 49,
   "metadata": {},
   "outputs": [
    {
     "name": "stdout",
     "output_type": "stream",
     "text": [
      "[(100, 0.014654900995083153), (200, 0.031332473998190835), (300, 0.043356976995710284), (400, 0.05759273299918277), (500, 0.0741757290015812), (600, 0.08712675699644024), (700, 0.11458271499577677), (800, 0.12109488600253826), (900, 0.1311529349986813), (1000, 0.1469613820008817), (1100, 0.16354190700076288), (1200, 0.17603925699950196), (1300, 0.1906468409943045), (1400, 0.21280975599802332), (1500, 0.22359474400582258), (1600, 0.23831034899922088), (1700, 0.26112112600094406), (1800, 0.2666786269983277), (1900, 0.27877637600613525), (2000, 0.2964789799952996), (2100, 0.31143080499896314), (2200, 0.3248635549971368), (2300, 0.34076330099924235), (2400, 0.3563566960001481), (2500, 0.37085630300134653), (2600, 0.38821782800368965), (2700, 0.40127043199754553), (2800, 0.42020415300066816), (2900, 0.4307807339937426)]\n"
     ]
    }
   ],
   "source": [
    "print(timeConsumedResults)"
   ]
  },
  {
   "cell_type": "code",
   "execution_count": null,
   "metadata": {},
   "outputs": [],
   "source": []
  }
 ],
 "metadata": {
  "kernelspec": {
   "display_name": "Python 3",
   "language": "python",
   "name": "python3"
  },
  "language_info": {
   "codemirror_mode": {
    "name": "ipython",
    "version": 3
   },
   "file_extension": ".py",
   "mimetype": "text/x-python",
   "name": "python",
   "nbconvert_exporter": "python",
   "pygments_lexer": "ipython3",
   "version": "3.6.4"
  }
 },
 "nbformat": 4,
 "nbformat_minor": 2
}
