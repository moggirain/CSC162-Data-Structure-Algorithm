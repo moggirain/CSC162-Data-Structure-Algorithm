{
 "cells": [
  {
   "cell_type": "markdown",
   "metadata": {
    "button": false,
    "new_sheet": false,
    "run_control": {
     "read_only": false
    }
   },
   "source": [
    "# Lab 14: Binary Search Trees"
   ]
  },
  {
   "cell_type": "markdown",
   "metadata": {
    "button": false,
    "new_sheet": false,
    "run_control": {
     "read_only": false
    }
   },
   "source": [
    "## <font color=DarkRed>Your Exercise: Handle duplicate keys</font>\n",
    "\n",
    "Modify our implementation of the `BinarySearchTree` class so that it handles duplicate keys properly. That is, if a key is already in the tree then the new payload should replace the old rather than add another node with the same key.\n",
    "\n",
    "Remember, one earlier example in class (the \"Binary Search and AVL Trees\" notebook), we attempted this on `wt`, which was a word tree we constructed. We could not update the definition of an already existing word:\n",
    "\n",
    "```\n",
    ">>> wt[\"abeam\"]\n",
    "'No definition available'\n",
    ">>> wt[\"abeam\"] = \"A bright headlight\"\n",
    ">>> wt[\"abeam\"]\n",
    "'No definition available'\n",
    "```"
   ]
  },
  {
   "cell_type": "markdown",
   "metadata": {
    "button": false,
    "new_sheet": false,
    "run_control": {
     "read_only": false
    }
   },
   "source": [
    "## <font color=green>Your Solution</font>\n",
    "\n",
    "*Use a variety of code, Markdown (text) cells below to create your solution. Nice outputs would be timing results, and even plots. You will be graded not only on correctness, but the clarity of your code, descriptive text and other output. Keep it succinct!*"
   ]
  },
  {
   "cell_type": "code",
   "execution_count": 41,
   "metadata": {
    "button": false,
    "new_sheet": false,
    "run_control": {
     "read_only": false
    }
   },
   "outputs": [],
   "source": [
    "class BinarySearchTree:\n",
    "    def __init__(self):\n",
    "        self.root = None\n",
    "        self.size = 0\n",
    "        \n",
    "    def length(self):\n",
    "        return self.size\n",
    "    \n",
    "    def __len__(self):\n",
    "        return self.length()\n",
    "    \n",
    "    def __iter__(self):\n",
    "        return self.root.__iter__()\n",
    "    \n",
    "    def put(self, key, val):\n",
    "        if self.root:\n",
    "            self.__put(key, val, self.root)\n",
    "        else:\n",
    "            self.root = TreeNode(key, val)\n",
    "            \n",
    "        self.size += 1\n",
    "        \n",
    "    def __put(self, key, val, current_node):\n",
    "        #print(\"Called from BinarySearchTree class\")\n",
    "        if key < current_node.key:     \n",
    "            if current_node.has_left_child():\n",
    "                self.__put(key, val, current_node.left_child)\n",
    "            else:\n",
    "                current_node.left_child = TreeNode(key, val, parent=current_node)  # base case \n",
    "        elif key > current_node.key: \n",
    "            if current_node.has_right_child():\n",
    "                self.__put(key, val, current_node.right_child)\n",
    "            else:\n",
    "                current_node.right_child = TreeNode(key, val, parent=current_node)  # base case\n",
    "        else: # key == current_node.key\n",
    "              current_node.replace_node_data(key,val,current_node.left_child,current_node.right_child)\n",
    "                                                    \n",
    "    def __setitem__(self, k, v):\n",
    "        self.put(k, v)\n",
    "        \n",
    "    def get(self, key):\n",
    "        if self.root:\n",
    "            res = self.__get(key, self.root)\n",
    "            if res:\n",
    "                return res.payload\n",
    "            else:\n",
    "                return None\n",
    "        else:\n",
    "            return None\n",
    "        \n",
    "    def __get(self, key, current_node):\n",
    "        if not current_node:\n",
    "            return None\n",
    "        elif current_node.key == key:\n",
    "            return current_node\n",
    "        elif key < current_node.key:\n",
    "            return self.__get(key, current_node.left_child)\n",
    "        else:\n",
    "            return self.__get(key, current_node.right_child)\n",
    "        \n",
    "    def __getitem__(self, key):\n",
    "        return self.get(key)\n",
    "    \n",
    "    \n",
    "    def __contains__(self, key):\n",
    "        if self.__get(key, self.root):\n",
    "            return True\n",
    "        else:\n",
    "            return False\n",
    "        \n",
    "        #return bool(self.__get(key, self.root))\n",
    "        #return True if self.__get(key, self.root) else False\n",
    "        \n",
    "    def delete(self, key):\n",
    "        if self.size > 1:\n",
    "            node_to_remove = self.__get(key, self.root)\n",
    "            if node_to_remove:\n",
    "                self.remove(node_to_remove)  # TODO: 'remove' needs to be defined!\n",
    "                self.size -= 1\n",
    "            else:\n",
    "                raise KeyError('Key not in tree')\n",
    "        elif self.size == 1 and self.root.key == key:\n",
    "            self.root = None\n",
    "            self.size -=1\n",
    "        else:\n",
    "            raise KeyError('Key not in tree')\n",
    "            \n",
    "    def __delitem__(self, key):\n",
    "        self.delete(key)\n",
    "        \n",
    "    def splice_out(self):\n",
    "        if self.is_leaf():\n",
    "            if self.is_left_child():\n",
    "                self.parent.left_child = None\n",
    "            else:\n",
    "                self.parent_right_child = None\n",
    "        elif self.has_any_children():\n",
    "            \n",
    "            if self.has_left_child():\n",
    "                if self.is_left_child():\n",
    "                    self.parent.left_child = self.left_child\n",
    "                else:\n",
    "                    self.parent_right_child = self.left_child\n",
    "                    \n",
    "                self.left_child.parent = self.parent\n",
    "            else:\n",
    "                if self.is_left_child():\n",
    "                    self.parent.left_child = self.right_child\n",
    "                else:\n",
    "                    self.parent.right_child = self.right_child\n",
    "                    \n",
    "                self.right_child.parent = self.parent\n",
    "                \n",
    "                \n",
    "    def find_successor(self):\n",
    "        succ = None\n",
    "        if self.has_right_child():\n",
    "            succ = self.right_child.find_min()\n",
    "        else:\n",
    "            if self.parent:\n",
    "                if self.is_left_child():\n",
    "                    succ = self.parent\n",
    "                else:\n",
    "                    self.parent.right_child = None\n",
    "                    succ = self.parent.find_successor()\n",
    "                    self.parent.right_child = self\n",
    "                    \n",
    "        return succ\n",
    "    \n",
    "    def find_min(self):\n",
    "        current = self\n",
    "        \n",
    "        while current.has_left_child():\n",
    "            current = current.left_child\n",
    "            \n",
    "        return current\n",
    "    \n",
    "    \n",
    "    def remove(self, current_node):\n",
    "        if current_node.is_leaf():  # leaf\n",
    "            if current_node == current_node.parent.left_child:\n",
    "                current_node.parent.left_child = None\n",
    "            else:\n",
    "                current_node.parent.right_child = None\n",
    "        elif current_node.has_both_children():  # interior\n",
    "            succ = current_node.find_successor()\n",
    "            succ.splice_out()\n",
    "            current_node.key = succ.key\n",
    "            current_node.payload = succ.payload\n",
    "\n",
    "        else:  # this node has one child\n",
    "            if current_node.has_left_child():\n",
    "                if current_node.is_left_child():\n",
    "                    current_node.left_child.parent = current_node.parent\n",
    "                    current_node.parent.left_child = current_node.left_child\n",
    "                elif current_node.is_right_child():\n",
    "                    current_node.left_child.parent = current_node.parent\n",
    "                    current_node.parent.right_child = current_node.left_child\n",
    "                else:\n",
    "                    current_node.replace_node_data(current_node.left_child.key,\n",
    "                                                   current_node.left_child.payload,\n",
    "                                                   current_node.left_child.left_child,\n",
    "                                                   current_node.left_child.right_child)\n",
    "            else:\n",
    "                if current_node.is_left_child():\n",
    "                    current_node.right_child.parent = current_node.parent\n",
    "                    current_node.parent.left_child = current_node.right_child\n",
    "                elif current_node.is_right_child():\n",
    "                    current_node.right_child.parent = current_node.parent\n",
    "                    current_node.parent.right_child = current_node.right_child\n",
    "                else:\n",
    "                    current_node.replace_node_data(current_node.key,\n",
    "                                                   current_node.right_child.payload,\n",
    "                                                   current_node.right_child.left_child,\n",
    "                                                   current_node.right_child.right_child)"
   ]
  },
  {
   "cell_type": "code",
   "execution_count": 42,
   "metadata": {},
   "outputs": [],
   "source": [
    "class TreeNode:\n",
    "    def __init__(self, key, val, left=None, right=None, parent=None):\n",
    "        self.key = key\n",
    "        self.payload = val\n",
    "        self.left_child = left\n",
    "        self.right_child = right\n",
    "        self.parent = parent\n",
    "        \n",
    "    def has_left_child(self):\n",
    "        return self.left_child\n",
    "    \n",
    "    def has_right_child(self):\n",
    "        return self.right_child\n",
    "    \n",
    "    def is_left_child(self):\n",
    "        return self.parent and self.parent.left_child == self\n",
    "    \n",
    "    def is_right_child(self):\n",
    "        return self.parent and self.parent.right_child == self\n",
    "\n",
    "    def is_root(self):\n",
    "        return not self.parent\n",
    "    \n",
    "    def is_leaf(self):\n",
    "        return not (self.right_child or self.left_child)\n",
    "    \n",
    "    def has_any_children(self):\n",
    "        return self.right_child or self.left_child\n",
    "    \n",
    "    def has_both_children(self):\n",
    "        return self.right_child and self.left_child\n",
    "        \n",
    "    def replace_node_data(self, key, value, lc, rc):\n",
    "        self.key = key\n",
    "        self.payload = value\n",
    "        self.left_child = lc\n",
    "        self.right_child = rc\n",
    "        \n",
    "        if self.has_left_child():\n",
    "            self.left_child.parent = self\n",
    "            \n",
    "        if self.has_right_child():\n",
    "            self.right_child.parent = self\n",
    "            \n",
    "    def __iter__(self):\n",
    "        # inorder traversal of (sub-)tree\n",
    "        # left children, root (self), right children\n",
    "        if self:\n",
    "            if self.has_left_child():\n",
    "                for elem in self.left_child:\n",
    "                    yield elem\n",
    "                    \n",
    "            yield self.key\n",
    "            \n",
    "            if self.has_right_child():\n",
    "                for elem in self.right_child:\n",
    "                    yield elem"
   ]
  },
  {
   "cell_type": "markdown",
   "metadata": {
    "button": false,
    "new_sheet": false,
    "run_control": {
     "read_only": false
    }
   },
   "source": [
    "## Testing\n",
    "\n",
    "Test out the `BinarySearchTree` class to show it works as advertised."
   ]
  },
  {
   "cell_type": "code",
   "execution_count": 62,
   "metadata": {
    "button": false,
    "new_sheet": false,
    "run_control": {
     "read_only": false
    }
   },
   "outputs": [],
   "source": [
    "mytree = BinarySearchTree()\n",
    "import requests\n",
    "\n",
    "def make_dictionary():\n",
    "    req = requests.get(\"http://t2.hhg.to/ospd.txt\")\n",
    "    words = req.text.split(\"\\n\")\n",
    "    print(len(words))\n",
    "    \n",
    "    mytree = BinarySearchTree()\n",
    "    for i, word in enumerate(words):\n",
    "        if i % 1000 == 0:\n",
    "            print(f\"Adding word #{i}: {word}\")\n",
    "            mytree.put(word, \"No definition available\") # only store the one printed out \n",
    "        \n",
    "    return mytree"
   ]
  },
  {
   "cell_type": "code",
   "execution_count": 63,
   "metadata": {
    "scrolled": false
   },
   "outputs": [
    {
     "name": "stdout",
     "output_type": "stream",
     "text": [
      "79340\n",
      "Adding word #0: aa\n",
      "Adding word #1000: affirmed\n",
      "Adding word #2000: ambler\n",
      "Adding word #3000: apposed\n",
      "Adding word #4000: augitic\n",
      "Adding word #5000: bargeman\n",
      "Adding word #6000: bemocked\n",
      "Adding word #7000: blankly\n",
      "Adding word #8000: botched\n",
      "Adding word #9000: bucolic\n",
      "Adding word #10000: calicoes\n",
      "Adding word #11000: catgut\n",
      "Adding word #12000: chid\n",
      "Adding word #13000: cling\n",
      "Adding word #14000: compeer\n",
      "Adding word #15000: cover\n",
      "Adding word #16000: culprit\n",
      "Adding word #17000: davens\n",
      "Adding word #18000: deride\n",
      "Adding word #19000: discount\n",
      "Adding word #20000: dragoons\n",
      "Adding word #21000: echards\n",
      "Adding word #22000: engluts\n",
      "Adding word #23000: evacuee\n",
      "Adding word #24000: fathers\n",
      "Adding word #25000: fistnote\n",
      "Adding word #26000: footrope\n",
      "Adding word #27000: fungoids\n",
      "Adding word #28000: genera\n",
      "Adding word #29000: godly\n",
      "Adding word #30000: grutten\n",
      "Adding word #31000: hared\n",
      "Adding word #32000: highly\n",
      "Adding word #33000: humanity\n",
      "Adding word #34000: incudal\n",
      "Adding word #35000: issuers\n",
      "Adding word #36000: juttying\n",
      "Adding word #37000: koa\n",
      "Adding word #38000: lay\n",
      "Adding word #39000: lins\n",
      "Adding word #40000: lunulae\n",
      "Adding word #41000: marrowed\n",
      "Adding word #42000: mickle\n",
      "Adding word #43000: mogs\n",
      "Adding word #44000: mures\n",
      "Adding word #45000: nickname\n",
      "Adding word #46000: oblates\n",
      "Adding word #47000: orrice\n",
      "Adding word #48000: ovine\n",
      "Adding word #49000: pastel\n",
      "Adding word #50000: petition\n",
      "Adding word #51000: plain\n",
      "Adding word #52000: posers\n",
      "Adding word #53000: promised\n",
      "Adding word #54000: quahogs\n",
      "Adding word #55000: ratlines\n",
      "Adding word #56000: refusnik\n",
      "Adding word #57000: resoles\n",
      "Adding word #58000: ritzier\n",
      "Adding word #59000: saccades\n",
      "Adding word #60000: scariose\n",
      "Adding word #61000: seminal\n",
      "Adding word #62000: shod\n",
      "Adding word #63000: skip\n",
      "Adding word #64000: snorers\n",
      "Adding word #65000: spelling\n",
      "Adding word #66000: stayers\n",
      "Adding word #67000: subdues\n",
      "Adding word #68000: swirl\n",
      "Adding word #69000: tawnies\n",
      "Adding word #70000: threep\n",
      "Adding word #71000: topspins\n",
      "Adding word #72000: troubles\n",
      "Adding word #73000: unaided\n",
      "Adding word #74000: unstoned\n",
      "Adding word #75000: vastier\n",
      "Adding word #76000: vomitous\n",
      "Adding word #77000: welled\n",
      "Adding word #78000: womanish\n",
      "Adding word #79000: zaniness\n"
     ]
    }
   ],
   "source": [
    "wt = make_dictionary()"
   ]
  },
  {
   "cell_type": "code",
   "execution_count": 64,
   "metadata": {},
   "outputs": [
    {
     "data": {
      "text/plain": [
       "'No definition available'"
      ]
     },
     "execution_count": 64,
     "metadata": {},
     "output_type": "execute_result"
    }
   ],
   "source": [
    "wt[\"seminal\"]"
   ]
  },
  {
   "cell_type": "code",
   "execution_count": 65,
   "metadata": {},
   "outputs": [],
   "source": [
    "wt[\"seminal\"] = \"strongly influence later development\""
   ]
  },
  {
   "cell_type": "code",
   "execution_count": 66,
   "metadata": {},
   "outputs": [
    {
     "data": {
      "text/plain": [
       "'strongly influence later development'"
      ]
     },
     "execution_count": 66,
     "metadata": {},
     "output_type": "execute_result"
    }
   ],
   "source": [
    "wt[\"seminal\"]"
   ]
  }
 ],
 "metadata": {
  "kernelspec": {
   "display_name": "Python 3",
   "language": "python",
   "name": "python3"
  },
  "language_info": {
   "codemirror_mode": {
    "name": "ipython",
    "version": 3
   },
   "file_extension": ".py",
   "mimetype": "text/x-python",
   "name": "python",
   "nbconvert_exporter": "python",
   "pygments_lexer": "ipython3",
   "version": "3.6.5"
  }
 },
 "nbformat": 4,
 "nbformat_minor": 2
}
