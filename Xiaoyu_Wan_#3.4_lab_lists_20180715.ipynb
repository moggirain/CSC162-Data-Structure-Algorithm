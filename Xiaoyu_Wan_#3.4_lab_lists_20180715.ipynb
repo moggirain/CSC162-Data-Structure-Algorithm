{
 "cells": [
  {
   "cell_type": "markdown",
   "metadata": {
    "button": false,
    "new_sheet": false,
    "run_control": {
     "read_only": false
    }
   },
   "source": [
    "# Lab 6: Lists"
   ]
  },
  {
   "cell_type": "markdown",
   "metadata": {
    "button": false,
    "new_sheet": false,
    "run_control": {
     "read_only": false
    }
   },
   "source": [
    "## <font color=DarkRed>Your Exercise: Implement additional operations for the `UnorderedList` ADT.</font>\n",
    "\n",
    "Implement all parts of the `UnorderedList` and `Node` classes as described\n",
    "in the textbook. You will use the definition of `Node` to implement a\n",
    "singly-linked list inside the `UnorderedList` class.\n",
    "\n",
    "**UnorderedList**:\n",
    "Use the methods given in the book (using the textbook source code is allowed):\n",
    "    \n",
    " * `__init__(self, init_data)`\n",
    " * `add(self, item)`\n",
    " * `remove(self, item)`\n",
    " * `search(self, item)`\n",
    " * `is_empty(self)`\n",
    " * `length(self)` (*Slides have it named as \"size\", the book more aptly calls it \"length\"*)\n",
    "\n",
    "Additional methods you need to write yourself:\n",
    " * `append(self, item)`\n",
    " * `insert(self, pos, item)`\n",
    " * `index(self, item)`\n",
    " * `pop(self)`\n",
    " * `pop(self, pos)`\n",
    " * `print(self)` (*Print the items in the list*)\n",
    "\n",
    "**Node**: Use the methods given in the book (using the textbook source code is allowed):\n",
    " * `__init__(self, init_data)`\n",
    " * `get_data(self)``\n",
    " * `get_next(self)``\n",
    " * `set_data(self, new_data)`\n",
    " * `set_next(self, new_next)`\n",
    " * `__repr__(self)` (*Instances of this class should propery represent itself if evaluated (test this using* `repr()` *function)\n"
   ]
  },
  {
   "cell_type": "markdown",
   "metadata": {
    "button": false,
    "new_sheet": false,
    "run_control": {
     "read_only": false
    }
   },
   "source": [
    "## <font color=green>Your Solution</font>\n",
    "\n",
    "*Use a variety of code, Markdown (text) cells below to create your solution. Nice outputs would be timing results, and even plots. You will be graded not only on correctness, but the clarity of your code, descriptive text and other output. Keep it succinct.*"
   ]
  },
  {
   "cell_type": "code",
   "execution_count": 12,
   "metadata": {},
   "outputs": [],
   "source": [
    "# Methods related to Node\n",
    "class Node:\n",
    "    def __init__(self,init_data):\n",
    "        self.data = init_data\n",
    "        self.next = None\n",
    "        \n",
    "    def get_data(self):\n",
    "        return self.data\n",
    "    \n",
    "    def get_next(self):\n",
    "        return self.next\n",
    "    \n",
    "    def set_data(self,new_data):\n",
    "        self.data = new_data\n",
    "    \n",
    "    def set_next(self,new_next):\n",
    "        self.next = new_next\n",
    "        \n",
    "    def __repr__(self):\n",
    "        return \"Node({0})\".format(self.data)\n",
    "       "
   ]
  },
  {
   "cell_type": "code",
   "execution_count": 201,
   "metadata": {},
   "outputs": [],
   "source": [
    "# Methods related to UnorderedList\n",
    "class UnorderedList: \n",
    "    def __init__(self):\n",
    "        self.head = None \n",
    "        \n",
    "    def add(self,item):\n",
    "        temp = Node(item)\n",
    "        temp.set_next(self.head)\n",
    "        self.head = temp\n",
    "        \n",
    "    def length(self): \n",
    "        current = self.head \n",
    "        count = 0 \n",
    "        \n",
    "        while current != None:\n",
    "            count = count + 1\n",
    "            current = current.get_next()\n",
    "\n",
    "        return count \n",
    "    \n",
    "    def search(self,item): \n",
    "        current = self.head\n",
    "        found = False \n",
    "        while current != None and not found:\n",
    "            if current.get_data() == item:\n",
    "                found = True \n",
    "            else:\n",
    "                current = current.get_next()\n",
    "            return found \n",
    "        \n",
    "        \n",
    "    def remove(self,item):\n",
    "        current = self.head\n",
    "        previous = None\n",
    "        found = False\n",
    "        \n",
    "        while not found:\n",
    "            if current.get_data() == item:\n",
    "                found = True\n",
    "                \n",
    "            else:\n",
    "                previous = current\n",
    "                current = current.get_next()\n",
    "        \n",
    "        if previous is None: \n",
    "            self.head = current.get_next()\n",
    "        else:\n",
    "            previous.set_next(current.get_next())\n",
    "            \n",
    "    def is_empty(self):\n",
    "         return self.head == None  \n",
    "        \n",
    "    #define append function\n",
    "    def append(self, item):\n",
    "        # if list is empty, equal to function add at the head\n",
    "        if self.is_empty():\n",
    "            self.add(item)\n",
    "        # else add new node at the end of the list\n",
    "        else:\n",
    "            ptr = self.head\n",
    "            # find the tail\n",
    "            while ptr.get_next() != None:\n",
    "                ptr = ptr.get_next()\n",
    "            new_node = Node(item)\n",
    "            new_node.set_next(ptr.get_next())\n",
    "            ptr.set_next(new_node)\n",
    "        \n",
    "    def insert(self, pos, item):\n",
    "        if self.is_empty():\n",
    "            if pos != 0:\n",
    "                raise IndexError\n",
    "            else:\n",
    "                self.append(item)\n",
    "        else:\n",
    "            if pos > self.length():\n",
    "                raise IndexError\n",
    "            elif pos == 0:\n",
    "                self.add(item)\n",
    "            else:\n",
    "                ptr = self.head\n",
    "                for i in range(pos-1):\n",
    "                    ptr = ptr.get_next()\n",
    "                new_node = Node(item)\n",
    "                new_node.set_next(ptr.get_next())\n",
    "                ptr.set_next(new_node)\n",
    "\n",
    "\n",
    "    def index(self, item):\n",
    "        if self.is_empty():\n",
    "            return None\n",
    "        ptr = self.head\n",
    "        found = False\n",
    "        i = 0\n",
    "        while ptr != None and found == False:\n",
    "            if ptr.get_data() == item:\n",
    "                return i\n",
    "            else:\n",
    "                ptr = ptr.get_next()\n",
    "                i = i + 1\n",
    "        if found:\n",
    "            return i\n",
    "        else:\n",
    "            return \"Not Found!\"\n",
    "\n",
    "    def pop(self):\n",
    "        if self.is_empty():\n",
    "            return None\n",
    "        elif self.length() == 1:\n",
    "            result = self.head.get_data()\n",
    "            self.head = None\n",
    "        else:\n",
    "            return self.pops(self.length() - 1)\n",
    "\n",
    "\n",
    "    def pops(self, pos):\n",
    "        if self.is_empty():\n",
    "            return None\n",
    "        elif pos >= self.length():\n",
    "            raise IndexError\n",
    "        elif self.length() == 1:\n",
    "            result = self.head.get_data()\n",
    "            self.head = None\n",
    "        else:\n",
    "            if pos == 0:\n",
    "                result = self.head.data\n",
    "                self.head = self.head.get_next()\n",
    "            else:\n",
    "                i = 0\n",
    "                ptr = self.head\n",
    "                while i < pos - 1:\n",
    "                    ptr = ptr.get_next()\n",
    "                    i = i + 1\n",
    "                result = ptr.get_next().get_data()\n",
    "                ptr.set_next(ptr.get_next().get_next())\n",
    "        return result\n",
    "\n",
    "    def __str__(self):\n",
    "        if self.is_empty():\n",
    "            return \"[]\"\n",
    "        ptr = self.head\n",
    "        result = \"[\"\n",
    "        while ptr.get_next() != None:\n",
    "            result = result + str(ptr.get_data()) + \",\"\n",
    "            ptr = ptr.get_next()\n",
    "            \n",
    "        result = result + str(ptr.get_data())\n",
    "        result = result + \"]\"\n",
    "        return result"
   ]
  },
  {
   "cell_type": "markdown",
   "metadata": {
    "button": false,
    "new_sheet": false,
    "run_control": {
     "read_only": false
    }
   },
   "source": [
    "## Testing\n",
    "\n",
    "Test your class by:\n",
    "\n",
    " * Inserting some items.\n",
    " * Printing list items.\n",
    " * Removing some items, then printing again.\n",
    " * Insert a few more items print the list items.\n",
    " * Other tests of your own design.\n"
   ]
  },
  {
   "cell_type": "code",
   "execution_count": 202,
   "metadata": {
    "button": false,
    "new_sheet": false,
    "run_control": {
     "read_only": false
    }
   },
   "outputs": [
    {
     "ename": "IndexError",
     "evalue": "",
     "output_type": "error",
     "traceback": [
      "\u001b[0;31m---------------------------------------------------------------------------\u001b[0m",
      "\u001b[0;31mIndexError\u001b[0m                                Traceback (most recent call last)",
      "\u001b[0;32m<ipython-input-202-30ed74c5a02d>\u001b[0m in \u001b[0;36m<module>\u001b[0;34m()\u001b[0m\n\u001b[1;32m      1\u001b[0m \u001b[0;31m# Insert the item\u001b[0m\u001b[0;34m\u001b[0m\u001b[0;34m\u001b[0m\u001b[0m\n\u001b[1;32m      2\u001b[0m \u001b[0munorderList\u001b[0m \u001b[0;34m=\u001b[0m \u001b[0mUnorderedList\u001b[0m\u001b[0;34m(\u001b[0m\u001b[0;34m)\u001b[0m\u001b[0;34m\u001b[0m\u001b[0m\n\u001b[0;32m----> 3\u001b[0;31m \u001b[0munorderList\u001b[0m\u001b[0;34m.\u001b[0m\u001b[0minsert\u001b[0m\u001b[0;34m(\u001b[0m\u001b[0;36m2\u001b[0m\u001b[0;34m,\u001b[0m\u001b[0;36m1\u001b[0m\u001b[0;34m)\u001b[0m\u001b[0;34m\u001b[0m\u001b[0m\n\u001b[0m",
      "\u001b[0;32m<ipython-input-201-c20f93750175>\u001b[0m in \u001b[0;36minsert\u001b[0;34m(self, pos, item)\u001b[0m\n\u001b[1;32m     68\u001b[0m         \u001b[0;32mif\u001b[0m \u001b[0mself\u001b[0m\u001b[0;34m.\u001b[0m\u001b[0mis_empty\u001b[0m\u001b[0;34m(\u001b[0m\u001b[0;34m)\u001b[0m\u001b[0;34m:\u001b[0m\u001b[0;34m\u001b[0m\u001b[0m\n\u001b[1;32m     69\u001b[0m             \u001b[0;32mif\u001b[0m \u001b[0mpos\u001b[0m \u001b[0;34m!=\u001b[0m \u001b[0;36m0\u001b[0m\u001b[0;34m:\u001b[0m\u001b[0;34m\u001b[0m\u001b[0m\n\u001b[0;32m---> 70\u001b[0;31m                 \u001b[0;32mraise\u001b[0m \u001b[0mIndexError\u001b[0m\u001b[0;34m\u001b[0m\u001b[0m\n\u001b[0m\u001b[1;32m     71\u001b[0m             \u001b[0;32melse\u001b[0m\u001b[0;34m:\u001b[0m\u001b[0;34m\u001b[0m\u001b[0m\n\u001b[1;32m     72\u001b[0m                 \u001b[0mself\u001b[0m\u001b[0;34m.\u001b[0m\u001b[0mappend\u001b[0m\u001b[0;34m(\u001b[0m\u001b[0mitem\u001b[0m\u001b[0;34m)\u001b[0m\u001b[0;34m\u001b[0m\u001b[0m\n",
      "\u001b[0;31mIndexError\u001b[0m: "
     ]
    }
   ],
   "source": [
    "# Insert the item \n",
    "unorderList = UnorderedList()\n",
    "unorderList.insert(1,4)"
   ]
  },
  {
   "cell_type": "code",
   "execution_count": 213,
   "metadata": {},
   "outputs": [
    {
     "name": "stdout",
     "output_type": "stream",
     "text": [
      "[1,2,3,1,2,3,0,1,3]\n"
     ]
    }
   ],
   "source": [
    "# Insert some items and print the list \n",
    "unorderList.insert(0,3)\n",
    "unorderList.insert(0,1)\n",
    "unorderList.insert(1,2)\n",
    "print(unorderList)"
   ]
  },
  {
   "cell_type": "code",
   "execution_count": 214,
   "metadata": {},
   "outputs": [
    {
     "name": "stdout",
     "output_type": "stream",
     "text": [
      "[1,3,1,2,3,1,3]\n"
     ]
    }
   ],
   "source": [
    "# Remove some items \n",
    "unorderList.remove(2)\n",
    "unorderList.remove(0)\n",
    "print(unorderList)"
   ]
  },
  {
   "cell_type": "code",
   "execution_count": 215,
   "metadata": {},
   "outputs": [
    {
     "name": "stdout",
     "output_type": "stream",
     "text": [
      "[1,2,4,3,1,2,3,1,3]\n"
     ]
    }
   ],
   "source": [
    "#Insert a few more items and print the list \n",
    "unorderList.insert(1,2)\n",
    "unorderList.insert(2,4)\n",
    "print(unorderList)"
   ]
  },
  {
   "cell_type": "code",
   "execution_count": 216,
   "metadata": {},
   "outputs": [
    {
     "name": "stdout",
     "output_type": "stream",
     "text": [
      "[1,2,4,3,1,5,2,3,1,3]\n"
     ]
    }
   ],
   "source": [
    "# Test the design when the postion is beyonod the length of the list \n",
    "unorderList.insert(5,5)\n",
    "print(unorderList)"
   ]
  },
  {
   "cell_type": "code",
   "execution_count": 217,
   "metadata": {},
   "outputs": [
    {
     "name": "stdout",
     "output_type": "stream",
     "text": [
      "[0,1,2,3,4]\n"
     ]
    }
   ],
   "source": [
    "# Test the append function \n",
    "unorderList = UnorderedList()\n",
    "unorderList.append(0)\n",
    "unorderList.append(1)\n",
    "unorderList.append(2)\n",
    "unorderList.append(3)\n",
    "unorderList.append(4)\n",
    "print(unorderList)"
   ]
  },
  {
   "cell_type": "code",
   "execution_count": 218,
   "metadata": {},
   "outputs": [
    {
     "name": "stdout",
     "output_type": "stream",
     "text": [
      "4\n",
      "[0,1,2,3]\n"
     ]
    }
   ],
   "source": [
    "# Test the pop function \n",
    "print(unorderList.pop())\n",
    "print(unorderList)"
   ]
  },
  {
   "cell_type": "code",
   "execution_count": 219,
   "metadata": {},
   "outputs": [
    {
     "name": "stdout",
     "output_type": "stream",
     "text": [
      "2\n",
      "[0,1,3]\n"
     ]
    }
   ],
   "source": [
    "print(unorderList.pops(2))\n",
    "print(unorderList)"
   ]
  },
  {
   "cell_type": "code",
   "execution_count": 220,
   "metadata": {},
   "outputs": [
    {
     "ename": "IndexError",
     "evalue": "",
     "output_type": "error",
     "traceback": [
      "\u001b[0;31m---------------------------------------------------------------------------\u001b[0m",
      "\u001b[0;31mIndexError\u001b[0m                                Traceback (most recent call last)",
      "\u001b[0;32m<ipython-input-220-0234316a38c4>\u001b[0m in \u001b[0;36m<module>\u001b[0;34m()\u001b[0m\n\u001b[0;32m----> 1\u001b[0;31m \u001b[0mprint\u001b[0m\u001b[0;34m(\u001b[0m\u001b[0munorderList\u001b[0m\u001b[0;34m.\u001b[0m\u001b[0mpops\u001b[0m\u001b[0;34m(\u001b[0m\u001b[0;36m3\u001b[0m\u001b[0;34m)\u001b[0m\u001b[0;34m)\u001b[0m\u001b[0;34m\u001b[0m\u001b[0m\n\u001b[0m\u001b[1;32m      2\u001b[0m \u001b[0mprint\u001b[0m\u001b[0;34m(\u001b[0m\u001b[0munorderList\u001b[0m\u001b[0;34m)\u001b[0m\u001b[0;34m\u001b[0m\u001b[0m\n",
      "\u001b[0;32m<ipython-input-201-c20f93750175>\u001b[0m in \u001b[0;36mpops\u001b[0;34m(self, pos)\u001b[0m\n\u001b[1;32m    116\u001b[0m             \u001b[0;32mreturn\u001b[0m \u001b[0;32mNone\u001b[0m\u001b[0;34m\u001b[0m\u001b[0m\n\u001b[1;32m    117\u001b[0m         \u001b[0;32melif\u001b[0m \u001b[0mpos\u001b[0m \u001b[0;34m>=\u001b[0m \u001b[0mself\u001b[0m\u001b[0;34m.\u001b[0m\u001b[0mlength\u001b[0m\u001b[0;34m(\u001b[0m\u001b[0;34m)\u001b[0m\u001b[0;34m:\u001b[0m\u001b[0;34m\u001b[0m\u001b[0m\n\u001b[0;32m--> 118\u001b[0;31m             \u001b[0;32mraise\u001b[0m \u001b[0mIndexError\u001b[0m\u001b[0;34m\u001b[0m\u001b[0m\n\u001b[0m\u001b[1;32m    119\u001b[0m         \u001b[0;32melif\u001b[0m \u001b[0mself\u001b[0m\u001b[0;34m.\u001b[0m\u001b[0mlength\u001b[0m\u001b[0;34m(\u001b[0m\u001b[0;34m)\u001b[0m \u001b[0;34m==\u001b[0m \u001b[0;36m1\u001b[0m\u001b[0;34m:\u001b[0m\u001b[0;34m\u001b[0m\u001b[0m\n\u001b[1;32m    120\u001b[0m             \u001b[0mresult\u001b[0m \u001b[0;34m=\u001b[0m \u001b[0mself\u001b[0m\u001b[0;34m.\u001b[0m\u001b[0mhead\u001b[0m\u001b[0;34m.\u001b[0m\u001b[0mget_data\u001b[0m\u001b[0;34m(\u001b[0m\u001b[0;34m)\u001b[0m\u001b[0;34m\u001b[0m\u001b[0m\n",
      "\u001b[0;31mIndexError\u001b[0m: "
     ]
    }
   ],
   "source": [
    "print(unorderList.pops(3))\n",
    "print(unorderList)"
   ]
  },
  {
   "cell_type": "code",
   "execution_count": 221,
   "metadata": {},
   "outputs": [
    {
     "name": "stdout",
     "output_type": "stream",
     "text": [
      "[0,1,3]\n",
      "2\n",
      "Not Found!\n"
     ]
    }
   ],
   "source": [
    "# Test the index function \n",
    "print(unorderList)\n",
    "print(unorderList.index(3))\n",
    "print(unorderList.index(2))"
   ]
  }
 ],
 "metadata": {
  "kernelspec": {
   "display_name": "Python 3",
   "language": "python",
   "name": "python3"
  },
  "language_info": {
   "codemirror_mode": {
    "name": "ipython",
    "version": 3
   },
   "file_extension": ".py",
   "mimetype": "text/x-python",
   "name": "python",
   "nbconvert_exporter": "python",
   "pygments_lexer": "ipython3",
   "version": "3.6.4"
  }
 },
 "nbformat": 4,
 "nbformat_minor": 2
}
