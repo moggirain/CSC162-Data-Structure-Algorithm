{
 "cells": [
  {
   "cell_type": "markdown",
   "metadata": {
    "button": false,
    "new_sheet": false,
    "run_control": {
     "read_only": false
    }
   },
   "source": [
    "# Lab 15: AVL Trees"
   ]
  },
  {
   "cell_type": "markdown",
   "metadata": {
    "button": false,
    "new_sheet": false,
    "run_control": {
     "read_only": false
    }
   },
   "source": [
    "## <font color=DarkRed>Your Exercise: Compare the performance of an unbalanced Binary Search Tree vs. a self-balancing AVL Tree</font>\n",
    "\n",
    "Use the `BinarySearchTree`, `TreeNode`, `AVLTree`, and `AVLTreeNode` classes as found in our [class notebook on this topic](http://www.pas.rochester.edu/~rsarkis/csc162/_static/notebooks/14-Binary%20Search%20Trees/Binary%20Search%20and%20AVL%20Trees.ipynb).\n",
    "\n",
    "The worst-case performance of both those structures is listed below.\n",
    "\n",
    "| operation | Binary Search Tree |    AVL Tree__  |\n",
    "| --------- | ------------------ | -------------- | \n",
    "| put \t    | $O(n)$             | $O(log_2 n)$   |\n",
    "| get \t    | $O(n)$             | $O(log_2 n)$   |\n",
    "| in \t    | $O(n)$             | $O(log_2 n)$   |\n",
    "| del \t    | $O(n)$             | $O(log_2 n)$   |\n",
    "\n",
    "\n",
    "**Your task:** Do your best to test the run time complexity of these operations on these two types of trees. This means:\n",
    "\n",
    "   * Concoting some set of data to input into the trees (perhaps my previous word examples)\n",
    "   \n",
    "   * Using timer objects\n",
    "   \n",
    "   * Plots"
   ]
  },
  {
   "cell_type": "markdown",
   "metadata": {
    "button": false,
    "new_sheet": false,
    "run_control": {
     "read_only": false
    }
   },
   "source": [
    "## <font color=green>Your Solution</font>\n",
    "\n",
    "*Use a variety of code, Markdown (text) cells below to create your solution. Nice outputs would be timing results, and even plots. You will be graded not only on correctness, but the clarity of your code, descriptive text and other output. Keep it succinct!*"
   ]
  },
  {
   "cell_type": "code",
   "execution_count": 63,
   "metadata": {},
   "outputs": [],
   "source": [
    "class BinarySearchTree:\n",
    "    def __init__(self):  # root and size as two primary variables\n",
    "        self.root = None\n",
    "        self.size = 0\n",
    "        \n",
    "    def length(self):  # Here length is a variable \n",
    "        return self.size\n",
    "    \n",
    "    def __len__(self): # Here length is used as a function override len()  len(bst) === bst.length()\n",
    "        return self.length()\n",
    "    \n",
    "    def __iter__(self): # Construct loops behind the scenes\n",
    "        return self.root.__iter__()# Call iter from the treenode\n",
    "    \n",
    "    def put(self, key, val): # Add the node (has root or not)\n",
    "        if self.root: # True\n",
    "            self.__put(key, val, self.root)# Call\n",
    "        else: # None===False\n",
    "            self.root = TreeNode(key, val)\n",
    "            \n",
    "        self.size += 1\n",
    "        \n",
    "    def __put(self, key, val, current_node): # when put with the root--find the position\n",
    "        #print(\"Called from BinarySearchTree class\")\n",
    "        if key < current_node.key:        \n",
    "            if current_node.has_left_child():# put the value to the left \n",
    "                self.__put(key, val, current_node.left_child)\n",
    "            else:\n",
    "                current_node.left_child = TreeNode(key, val, parent=current_node)  # base case \n",
    "        else: # key is >= than current_node.key\n",
    "            if current_node.has_right_child(): #put the value to the left \n",
    "                self.__put(key, val, current_node.right_child)\n",
    "            else:\n",
    "                current_node.right_child = TreeNode(key, val, parent=current_node)  # base case\n",
    "                \n",
    "    def __setitem__(self, k, v): # Set the new value \n",
    "        self.put(k, v)\n",
    "        \n",
    "    def get(self, key):\n",
    "        if self.root:\n",
    "            res = self.__get(key, self.root)# find the key as the root \n",
    "            if res:\n",
    "                return res.payload #get the value of the root node\n",
    "            else:\n",
    "                return None\n",
    "        else: \n",
    "            return None\n",
    "        \n",
    "    def __get(self, key, current_node): # find the matching key and retrieve the value\n",
    "        if not current_node: # No such key exist \n",
    "            return None\n",
    "        elif current_node.key == key: # matching key \n",
    "            return current_node \n",
    "        elif key < current_node.key: # Key< current node\n",
    "            return self.__get(key, current_node.left_child)\n",
    "        else:\n",
    "            return self.__get(key, current_node.right_child) # Key>=current node \n",
    "        \n",
    "    def __getitem__(self, key):\n",
    "        return self.get(key) # get the key of the item\n",
    "    \n",
    "    \n",
    "    def __contains__(self, key):\n",
    "        if self.__get(key, self.root):\n",
    "            return True\n",
    "        else:\n",
    "            return False\n",
    "        \n",
    "        #return bool(self.__get(key, self.root))\n",
    "        #return True if self.__get(key, self.root) else False\n",
    "        \n",
    "    def delete(self, key): # 1. key in the tree 2. key size \n",
    "        if self.size > 1:\n",
    "            node_to_remove = self.__get(key, self.root) # find the key\n",
    "            if node_to_remove: # has the node_to_remove\n",
    "                self.remove(node_to_remove)  # TODO: 'remove' needs to be defined!\n",
    "                self.size -= 1\n",
    "            else: # not the node_to_remove\n",
    "                raise KeyError('Key not in tree') # self.size \n",
    "        elif self.size == 1 and self.root.key == key: # one node, make sure it is the key and set it none\n",
    "            self.root = None\n",
    "            self.size -=1\n",
    "        else:\n",
    "            raise KeyError('Key not in tree') # no tree\n",
    "            \n",
    "    def __delitem__(self, key):\n",
    "        self.delete(key)\n",
    "        \n",
    "    \n",
    "    def remove(self, current_node):\n",
    "        if current_node.is_leaf():  # leaf\n",
    "            if current_node == current_node.parent.left_child:\n",
    "                current_node.parent.left_child = None\n",
    "            else:\n",
    "                current_node.parent.right_child = None\n",
    "        elif current_node.has_both_children():  # both children interior\n",
    "            succ = current_node.find_successor()\n",
    "            succ.splice_out() # delete the successor \n",
    "            current_node.key = succ.key\n",
    "            current_node.payload = succ.payload\n",
    "\n",
    "        else:  # this node has one child\n",
    "            if current_node.has_left_child(): # left child\n",
    "                if current_node.is_left_child():\n",
    "                    current_node.left_child.parent = current_node.parent\n",
    "                    current_node.parent.left_child = current_node.left_child\n",
    "                elif current_node.is_right_child(): # right child \n",
    "                    current_node.left_child.parent = current_node.parent\n",
    "                    current_node.parent.right_child = current_node.left_child\n",
    "                else: # no parent replace the key, value, left and right child \n",
    "                    current_node.replace_node_data(current_node.left_child.key,\n",
    "                                                   current_node.left_child.payload,\n",
    "                                                   current_node.left_child.left_child,\n",
    "                                                   current_node.left_child.right_child)\n",
    "            else:#current node has right child \n",
    "                if current_node.is_left_child(): \n",
    "                    current_node.right_child.parent = current_node.parent\n",
    "                    current_node.parent.left_child = current_node.right_child\n",
    "                elif current_node.is_right_child():\n",
    "                    current_node.right_child.parent = current_node.parent\n",
    "                    current_node.parent.right_child = current_node.right_child\n",
    "                else:\n",
    "                    current_node.replace_node_data(current_node.right_child.key,\n",
    "                                                   current_node.right_child.payload,\n",
    "                                                   current_node.right_child.left_child,\n",
    "                                                   current_node.right_child.right_child)"
   ]
  },
  {
   "cell_type": "code",
   "execution_count": 70,
   "metadata": {},
   "outputs": [],
   "source": [
    "# Define TreeNode        \n",
    "class TreeNode:  # Use to gurantee the tree is not empty \n",
    "    def __init__(self, key, val, left=None, right=None, parent=None):\n",
    "        self.key = key\n",
    "        self.payload = val\n",
    "        self.left_child = left\n",
    "        self.right_child = right\n",
    "        self.parent = parent\n",
    "        \n",
    "    def has_left_child(self):\n",
    "        return self.left_child\n",
    "    \n",
    "    def has_right_child(self):\n",
    "        return self.right_child\n",
    "    \n",
    "    def is_left_child(self):\n",
    "        return self.parent and self.parent.left_child == self # has parent and parent's left_child is self\n",
    "    \n",
    "    def is_right_child(self):\n",
    "        return self.parent and self.parent.right_child == self # has parent and parent's right_child is self\n",
    "\n",
    "    def is_root(self):\n",
    "        return not self.parent\n",
    "    \n",
    "    def is_leaf(self):\n",
    "        return not (self.right_child or self.left_child)\n",
    "    \n",
    "    def has_any_children(self):\n",
    "        return self.right_child or self.left_child\n",
    "    \n",
    "    def has_both_children(self):\n",
    "        return self.right_child and self.left_child\n",
    "        \n",
    "    def replace_node_data(self, key, value, lc, rc):\n",
    "        self.key = key\n",
    "        self.payload = value\n",
    "        self.left_child = lc\n",
    "        self.right_child = rc\n",
    "        \n",
    "        if self.has_left_child():\n",
    "            self.left_child.parent = self\n",
    "            \n",
    "        if self.has_right_child():\n",
    "            self.right_child.parent = self\n",
    "            \n",
    "    def __iter__(self):\n",
    "        # inorder traversal of (sub-)tree\n",
    "        # left children, root (self), right children\n",
    "        if self:\n",
    "            if self.has_left_child():\n",
    "                for elem in self.left_child:\n",
    "                    yield elem\n",
    "                    \n",
    "            yield self.key\n",
    "            \n",
    "            if self.has_right_child():\n",
    "                for elem in self.right_child:\n",
    "                    yield elem\n",
    "                    \n",
    "                    \n",
    "                    \n",
    "    def splice_out(self):\n",
    "        if self.is_leaf(): # left node \n",
    "            if self.is_left_child(): # left leaf node \n",
    "                self.parent.left_child = None\n",
    "            else:\n",
    "                self.parent_right_child = None\n",
    "        elif self.has_any_children():\n",
    "            \n",
    "            if self.has_left_child(): # has left child \n",
    "                if self.is_left_child(): # is left child \n",
    "                    self.parent.left_child = self.left_child\n",
    "                else:\n",
    "                    self.parent_right_child = self.left_child\n",
    "                    \n",
    "                self.left_child.parent = self.parent\n",
    "            else: \n",
    "                if self.is_left_child():\n",
    "                    self.parent.left_child = self.right_child\n",
    "                else:\n",
    "                    self.parent.right_child = self.right_child\n",
    "                    \n",
    "                self.right_child.parent = self.parent\n",
    "                \n",
    "                \n",
    "    def find_successor(self):\n",
    "        succ = None\n",
    "        if self.has_right_child(): # find the smallest value in the right child \n",
    "            succ = self.right_child.find_min()\n",
    "        else:#has left child \n",
    "            if self.parent: # left child becomes the parent \n",
    "                if self.is_left_child():# is the left child \n",
    "                    succ = self.parent\n",
    "                else: # is right child and has no child-find the successor in the right subtree\n",
    "                    self.parent.right_child = None\n",
    "                    succ = self.parent.find_successor()\n",
    "                    self.parent.right_child = self\n",
    "                    \n",
    "        return succ\n",
    "    \n",
    "    def find_min(self):\n",
    "        current = self\n",
    "        \n",
    "        while current.has_left_child():\n",
    "            current = current.left_child\n",
    "            \n",
    "        return current"
   ]
  },
  {
   "cell_type": "code",
   "execution_count": 71,
   "metadata": {},
   "outputs": [],
   "source": [
    "# Define AVL Tree \n",
    "class AVLTreeNode(TreeNode):\n",
    "    def __init__(self, *args, **kwargs): # Use the args or kwargs to represent lists and dictionary\n",
    "        super().__init__(*args, **kwargs)\n",
    "        self.balance_factor = 0 # For AVL Tree"
   ]
  },
  {
   "cell_type": "code",
   "execution_count": 72,
   "metadata": {},
   "outputs": [],
   "source": [
    "# Define AVL Tree \n",
    "class AVLTree(BinarySearchTree):\n",
    "    def __init__(self):\n",
    "        super().__init__() \n",
    "        \n",
    "    def put(self, key, val):\n",
    "        if self.root:\n",
    "            self.__put(key, val, self.root)\n",
    "        else:\n",
    "            self.root = AVLTreeNode(key, val)\n",
    "            \n",
    "        self.size += 1\n",
    "        \n",
    "    def __put(self, key, val, current_node):\n",
    "        if key < current_node.key:\n",
    "            if current_node.has_left_child():\n",
    "                self.__put(key,val,current_node.left_child)\n",
    "            else:\n",
    "                current_node.left_child = AVLTreeNode(key,val,parent=current_node)\n",
    "                self.update_balance(current_node.left_child)\n",
    "        else:\n",
    "            if current_node.has_right_child():\n",
    "                self.__put(key,val,current_node.right_child)\n",
    "            else:\n",
    "                current_node.right_child = AVLTreeNode(key,val,parent=current_node)\n",
    "                self.update_balance(current_node.right_child)     \n",
    "\n",
    "    def update_balance(self, node):\n",
    "        if node.balance_factor > 1 or node.balance_factor < -1:\n",
    "            self.rebalance(node)\n",
    "            return\n",
    "        \n",
    "        if node.parent != None:\n",
    "            if node.is_left_child():\n",
    "                node.parent.balance_factor += 1\n",
    "            elif node.is_right_child():\n",
    "                node.parent.balance_factor -= 1\n",
    "\n",
    "            if node.parent.balance_factor != 0:\n",
    "                self.update_balance(node.parent)\n",
    "\n",
    "    def rebalance(self, node):\n",
    "        if node.balance_factor < 0:\n",
    "            if node.right_child.balance_factor > 0:\n",
    "                # Do an LR Rotation\n",
    "                self.rotate_right(node.right_child)\n",
    "                self.rotate_left(node)\n",
    "            else:\n",
    "                # single left\n",
    "                self.rotate_left(node)\n",
    "        elif node.balance_factor > 0:\n",
    "            if node.left_child.balance_factor < 0:\n",
    "                # Do an RL Rotation\n",
    "                self.rotate_left(node.left_child)\n",
    "                self.rotate_right(node)\n",
    "            else:\n",
    "                # single right\n",
    "                self.rotate_right(node)\n",
    "\n",
    "    def rotate_left(self,rot_root):\n",
    "        new_root = rot_root.right_child\n",
    "        rot_root.right_child = new_root.left_child\n",
    "        \n",
    "        if new_root.left_child != None:\n",
    "            new_root.left_child.parent = rot_root\n",
    "            \n",
    "        new_root.parent = rot_root.parent\n",
    "        \n",
    "        if rot_root.is_root():\n",
    "            self.root = new_root\n",
    "        else:\n",
    "            if rot_root.is_left_child():\n",
    "                rot_root.parent.left_child = new_root\n",
    "            else:\n",
    "                rot_root.parent.right_child = new_root\n",
    "\n",
    "        new_root.left_child = rot_root\n",
    "        rot_root.parent = new_root\n",
    "        rot_root.balance_factor = rot_root.balance_factor + 1 - min(new_root.balance_factor, 0)\n",
    "        new_root.balance_factor = new_root.balance_factor + 1 + max(rot_root.balance_factor, 0)\n",
    "\n",
    "\n",
    "    def rotate_right(self,rot_root):\n",
    "        new_root = rot_root.left_child\n",
    "        rot_root.left_child = new_root.right_child\n",
    "        if new_root.right_child != None:\n",
    "            new_root.right_child.parent = rot_root\n",
    "        new_root.parent = rot_root.parent\n",
    "        if rot_root.is_root():\n",
    "            self.root = new_root\n",
    "        else:\n",
    "            if rot_root.is_right_child():\n",
    "                rot_root.parent.right_child = new_root\n",
    "            else:\n",
    "                rot_root.parent.left_child = new_root\n",
    "        new_root.right_child = rot_root\n",
    "        rot_root.parent = new_root\n",
    "        rot_root.balance_factor = rot_root.balance_factor - 1 - max(new_root.balance_factor, 0)\n",
    "        new_root.balance_factor = new_root.balance_factor - 1 + min(rot_root.balance_factor, 0)"
   ]
  },
  {
   "cell_type": "code",
   "execution_count": 73,
   "metadata": {},
   "outputs": [],
   "source": [
    "import requests\n",
    "import timeit \n",
    "import random\n",
    "\n",
    "req = requests.get(\"http://t2.hhg.to/ospd.txt\")\n",
    "words = req.text.split(\"\\n\")\n",
    "total_word = len(words)"
   ]
  },
  {
   "cell_type": "markdown",
   "metadata": {},
   "source": [
    "## TESTING-PUT\n"
   ]
  },
  {
   "cell_type": "code",
   "execution_count": 80,
   "metadata": {},
   "outputs": [],
   "source": [
    "# Make a dictionary to select the random sample \n",
    "def make_dictionary(n):\n",
    "    wl = []\n",
    "    gap = total_word//n\n",
    "    for i,word in enumerate(words):\n",
    "        if i%gap==0:\n",
    "            wl.append(word)\n",
    "    return wl\n",
    "\n",
    "# Put the sample words into two trees: AVL and BST \n",
    "def fillAtree(wl):\n",
    "    Atree = AVLTree()\n",
    "    for word in wl:\n",
    "        Atree.put(word, \"No definition available\") \n",
    "    return Atree\n",
    "\n",
    "def fillBtree(wl):\n",
    "    Btree = BinarySearchTree()\n",
    "    for word in wl:\n",
    "        Btree.put(word, \"No definition available\") \n",
    "    return Btree"
   ]
  },
  {
   "cell_type": "code",
   "execution_count": 81,
   "metadata": {},
   "outputs": [],
   "source": [
    "# Build dictionary to plot the time for both trees\n",
    "Atree_times = dict()\n",
    "Btree_times = dict()\n",
    "\n",
    "# Set the range for n size numbers \n",
    "for n in range(200, 3000, 300):\n",
    "    wl = make_dictionary(n)\n",
    "    Atree = fillAtree(wl)\n",
    "    Btree = fillBtree(wl)\n",
    "    # Time two tree algorithms with the same word dictionary\n",
    "    Atree_t = timeit.Timer(\"Atree.put('zloha','No definition available') \", globals={\"Atree\":Atree})\n",
    "    Atree_times[n] = Atree_t.timeit(20) \n",
    "    Btree_t = timeit.Timer(\"Btree.put('zloha','No definition available') \", globals={\"Btree\":Btree})\n",
    "    Btree_times[n] = Btree_t.timeit(20) \n"
   ]
  },
  {
   "cell_type": "code",
   "execution_count": 82,
   "metadata": {},
   "outputs": [
    {
     "data": {
      "image/png": "[encoded data removed]",
      "text/plain": [
       "<Figure size 432x288 with 1 Axes>"
      ]
     },
     "metadata": {},
     "output_type": "display_data"
    }
   ],
   "source": [
    "# Plot the running time for two tree algorithms\n",
    "import matplotlib.pyplot as plt\n",
    "l1,=plt.plot(Atree_times.keys(), Atree_times.values(), 'ro',label=\"AVL\")\n",
    "l2,=plt.plot(Btree_times.keys(),Btree_times.values(), 'bo',label=\"BST\")\n",
    "\n",
    "plt.axis([200,3000,0,0.1])\n",
    "plt.title(\"Put_Running Time for AVL & BST Algorithm\")\n",
    "plt.xlabel(\"Input Size (n)\")\n",
    "plt.ylabel(\"Running time(s)\")\n",
    "legend=plt.legend([l1,l2])\n",
    "plt.show()"
   ]
  },
  {
   "cell_type": "markdown",
   "metadata": {},
   "source": [
    "## TESTING GET"
   ]
  },
  {
   "cell_type": "code",
   "execution_count": 85,
   "metadata": {},
   "outputs": [],
   "source": [
    "# Build two functions to get random words\n",
    "def getAtree(Atree):\n",
    "    randomWordIndex = random.randint(0,total_word-1)\n",
    "    Atree.get(words[randomWordIndex])\n",
    "\n",
    "def getBtree(Btree):\n",
    "    randomWordIndex = random.randint(0,total_word-1)\n",
    "    Btree.get(words[randomWordIndex])"
   ]
  },
  {
   "cell_type": "code",
   "execution_count": 86,
   "metadata": {},
   "outputs": [],
   "source": [
    "# Make dictionaries to plot the time for both trees\n",
    "Atree_times = dict()\n",
    "Btree_times = dict()\n",
    "\n",
    "# set the range for n size numbers and make the tree\n",
    "for n in range(200, 3000, 300):\n",
    "    wl = make_dictionary(n)\n",
    "    Atree = fillAtree(wl)\n",
    "    Btree = fillBtree(wl)\n",
    "    # Time two tree algorithms with the same word dictionary\n",
    "    Atree_t = timeit.Timer(\"getAtree(Atree)\", globals={\"getAtree\":getAtree,\"Atree\":Atree})\n",
    "    Atree_times[n] = Atree_t.timeit(20) \n",
    "    Btree_t = timeit.Timer(\"getBtree(Btree)\", globals={\"getBtree\":getAtree,\"Btree\":Btree})\n",
    "    Btree_times[n] = Btree_t.timeit(20) \n"
   ]
  },
  {
   "cell_type": "code",
   "execution_count": 87,
   "metadata": {},
   "outputs": [
    {
     "data": {
      "image/png": "[encoded data removed]",
      "text/plain": [
       "<Figure size 432x288 with 1 Axes>"
      ]
     },
     "metadata": {},
     "output_type": "display_data"
    }
   ],
   "source": [
    "# Plot the running time for two tree algorithms\n",
    "import matplotlib.pyplot as plt\n",
    "l1,=plt.plot(Atree_times.keys(), Atree_times.values(), 'ro',label=\"AVL\")\n",
    "l2,=plt.plot(Btree_times.keys(),Btree_times.values(), 'bo',label=\"BST\")\n",
    "\n",
    "plt.axis([200,3000,0,0.02])\n",
    "plt.title(\"Get_Running Time for AVL & BST Algorithm\")\n",
    "plt.xlabel(\"Input Size (n)\")\n",
    "plt.ylabel(\"Running time(s)\")\n",
    "legend=plt.legend([l1,l2])\n",
    "plt.show()"
   ]
  },
  {
   "cell_type": "markdown",
   "metadata": {},
   "source": [
    "## TESTING IN"
   ]
  },
  {
   "cell_type": "code",
   "execution_count": 88,
   "metadata": {},
   "outputs": [],
   "source": [
    "# Build two functions to get random words and check if these words are in the trees\n",
    "def inAtree(Atree):\n",
    "    randomWordIndex = random.randint(0,total_word-1)  \n",
    "    Atree.__contains__(words[randomWordIndex])\n",
    "\n",
    "def inBtree(Btree):\n",
    "    randomWordIndex = random.randint(0,total_word-1)  \n",
    "    Btree.__contains__(words[randomWordIndex])"
   ]
  },
  {
   "cell_type": "code",
   "execution_count": 89,
   "metadata": {},
   "outputs": [],
   "source": [
    "# Build dictionary to plot the time for both trees\n",
    "Atree_times = dict()\n",
    "Btree_times = dict()\n",
    "\n",
    "# set the range for n size numbers \n",
    "for n in range(200, 3000, 300):\n",
    "    wl = make_dictionary(n)\n",
    "    Atree = fillAtree(wl)\n",
    "    Btree = fillBtree(wl)\n",
    "\n",
    "    # Time two tree algorithms with the same word dictionary\n",
    "    Atree_t = timeit.Timer(\"inAtree(Atree)\", globals={\"inAtree\":inAtree,\"Atree\":Atree})\n",
    "    Atree_times[n] = Atree_t.timeit(2000) \n",
    "    Btree_t = timeit.Timer(\"inBtree(Btree)\", globals={\"inBtree\":inBtree,\"Btree\":Btree})\n",
    "    Btree_times[n] = Btree_t.timeit(2000) \n"
   ]
  },
  {
   "cell_type": "code",
   "execution_count": 90,
   "metadata": {},
   "outputs": [
    {
     "data": {
      "image/png": "[encoded data removed]",
      "text/plain": [
       "<Figure size 432x288 with 1 Axes>"
      ]
     },
     "metadata": {},
     "output_type": "display_data"
    }
   ],
   "source": [
    "# Plot the running time for two tree algorithms\n",
    "import matplotlib.pyplot as plt\n",
    "l1,=plt.plot(Atree_times.keys(), Atree_times.values(), 'ro',label=\"AVL\")\n",
    "l2,=plt.plot(Btree_times.keys(),Btree_times.values(), 'bo',label=\"BST\")\n",
    "\n",
    "plt.axis([200, 3000,0,2])\n",
    "plt.title(\"In_Running Time for AVL & BST Algorithm\")\n",
    "plt.xlabel(\"Input Size (n)\")\n",
    "plt.ylabel(\"Running time(s)\")\n",
    "legend=plt.legend([l1,l2])\n",
    "plt.show()"
   ]
  },
  {
   "cell_type": "markdown",
   "metadata": {},
   "source": [
    "## TESTING DEL"
   ]
  },
  {
   "cell_type": "code",
   "execution_count": 101,
   "metadata": {},
   "outputs": [],
   "source": [
    "# Make a dictionary for deleting the word in AVL and BST tree\n",
    "\n",
    "def delAtree(Atree,item):\n",
    "    Atree.delete(item)\n",
    "\n",
    "def delBtree(Btree,item):\n",
    "    Btree.delete(item)\n",
    "    "
   ]
  },
  {
   "cell_type": "markdown",
   "metadata": {},
   "source": [
    "## #1 Worst Case: Delete a random word "
   ]
  },
  {
   "cell_type": "code",
   "execution_count": 104,
   "metadata": {},
   "outputs": [],
   "source": [
    "# Build dictionary to plot the time for both trees\n",
    "Atree_times = dict()\n",
    "Btree_times = dict()\n",
    "\n",
    "# set the range for n size numbers and build teh tree\n",
    "for n in range(200, 3000, 300):\n",
    "    wl = make_dictionary(n)\n",
    "    Atree = fillAtree(wl)\n",
    "    Btree = fillBtree(wl)\n",
    "    randomWordIndex = random.randint(0,len(wl)-1) \n",
    "    # delete a random word \n",
    "    del_item = wl[randomWordIndex]\n",
    "    # Time two tree algorithms with the same word dictionary\n",
    "    Atree_t = timeit.Timer(\"delAtree(Atree,item)\", globals={\"delAtree\":delAtree,\"Atree\":Atree,\"item\":del_item})\n",
    "    Atree_times[n] = Atree_t.timeit(1) \n",
    "    Btree_t = timeit.Timer(\"delBtree(Btree,item)\", globals={\"delBtree\":delBtree,\"Btree\":Btree,\"item\":del_item})\n",
    "    Btree_times[n] = Btree_t.timeit(1) "
   ]
  },
  {
   "cell_type": "code",
   "execution_count": 105,
   "metadata": {},
   "outputs": [
    {
     "data": {
      "image/png": "[encoded data removed]",
      "text/plain": [
       "<Figure size 432x288 with 1 Axes>"
      ]
     },
     "metadata": {},
     "output_type": "display_data"
    }
   ],
   "source": [
    "# Plot the running time for two tree algorithms \n",
    "import matplotlib.pyplot as plt\n",
    "l1,=plt.plot(Atree_times.keys(), Atree_times.values(), 'ro',label=\"AVL\")\n",
    "l2,=plt.plot(Btree_times.keys(),Btree_times.values(), 'bo',label=\"BST\")\n",
    "\n",
    "plt.axis([200, 3000,0,0.002])\n",
    "plt.title(\"Delete_Running Time for AVL & BST Algorithm\")\n",
    "plt.xlabel(\"Input Size (n)\")\n",
    "plt.ylabel(\"Running time(s)\")\n",
    "legend=plt.legend([l1,l2])\n",
    "plt.show()"
   ]
  },
  {
   "cell_type": "markdown",
   "metadata": {},
   "source": [
    "## #2 Worst Case: Delete the last word "
   ]
  },
  {
   "cell_type": "code",
   "execution_count": 106,
   "metadata": {},
   "outputs": [],
   "source": [
    "# Build dictionary to plot the time for both trees\n",
    "Atree_times = dict()\n",
    "Btree_times = dict()\n",
    "\n",
    "# set the range for n size numbers and build teh tree\n",
    "for n in range(200, 3000, 300):\n",
    "    wl = make_dictionary(n)\n",
    "    Atree = fillAtree(wl)\n",
    "    Btree = fillBtree(wl)\n",
    "    #randomWordIndex = random.randint(0,len(wl)) \n",
    "    # delete the last word \n",
    "    del_item = wl[-1]\n",
    "    # Time two tree algorithms with the same word dictionary\n",
    "    Atree_t = timeit.Timer(\"delAtree(Atree,item)\", globals={\"delAtree\":delAtree,\"Atree\":Atree,\"item\":del_item})\n",
    "    Atree_times[n] = Atree_t.timeit(1) \n",
    "    Btree_t = timeit.Timer(\"delBtree(Btree,item)\", globals={\"delBtree\":delBtree,\"Btree\":Btree,\"item\":del_item})\n",
    "    Btree_times[n] = Btree_t.timeit(1) "
   ]
  },
  {
   "cell_type": "code",
   "execution_count": 107,
   "metadata": {},
   "outputs": [
    {
     "data": {
      "image/png": "[encoded data removed]",
      "text/plain": [
       "<Figure size 432x288 with 1 Axes>"
      ]
     },
     "metadata": {},
     "output_type": "display_data"
    }
   ],
   "source": [
    "# Plot the running time for two tree algorithms \n",
    "import matplotlib.pyplot as plt\n",
    "l1,=plt.plot(Atree_times.keys(), Atree_times.values(), 'ro',label=\"AVL\")\n",
    "l2,=plt.plot(Btree_times.keys(),Btree_times.values(), 'bo',label=\"BST\")\n",
    "\n",
    "plt.axis([200, 3000,0,0.002])\n",
    "plt.title(\"Delete_Running Time for AVL & BST Algorithm\")\n",
    "plt.xlabel(\"Input Size (n)\")\n",
    "plt.ylabel(\"Running time(s)\")\n",
    "legend=plt.legend([l1,l2])\n",
    "plt.show()"
   ]
  },
  {
   "cell_type": "code",
   "execution_count": null,
   "metadata": {},
   "outputs": [],
   "source": []
  }
 ],
 "metadata": {
  "kernelspec": {
   "display_name": "Python 3",
   "language": "python",
   "name": "python3"
  },
  "language_info": {
   "codemirror_mode": {
    "name": "ipython",
    "version": 3
   },
   "file_extension": ".py",
   "mimetype": "text/x-python",
   "name": "python",
   "nbconvert_exporter": "python",
   "pygments_lexer": "ipython3",
   "version": "3.6.5"
  }
 },
 "nbformat": 4,
 "nbformat_minor": 2
}
