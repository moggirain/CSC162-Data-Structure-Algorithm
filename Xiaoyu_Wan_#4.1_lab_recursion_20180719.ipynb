{
 "cells": [
  {
   "cell_type": "markdown",
   "metadata": {
    "button": false,
    "new_sheet": false,
    "run_control": {
     "read_only": false
    }
   },
   "source": [
    "# Lab 7: Recursion"
   ]
  },
  {
   "cell_type": "markdown",
   "metadata": {
    "button": false,
    "new_sheet": false,
    "run_control": {
     "read_only": false
    }
   },
   "source": [
    "## <font color=DarkRed>Your Exercise: Anagrams and Word Jumbles </font>\n",
    "\n",
    "A [word jumble](https://en.wikipedia.org/wiki/Jumble) is a word game where a randomized series of characters must be rearranged to spell a particular (English) word. For example the jumble `\"plaep\"` can be decoded as `\"apple\"`.\n",
    "\n",
    "Your assignment is to do the following:\n",
    "\n",
    " 1. Write a function `jumble_decode` that takes a jumbled word as an input parameter. \n",
    "    * It will generate all the anagrams for that jumbled word using the `anagrams` function (see below).\n",
    "    <br/><br/>\n",
    "    \n",
    "    * Use a \"dictionary file\" (a text file listing all known English words) to filter out the the anagrams that are valid English words.\n",
    "    <br/><br/>\n",
    "    \n",
    "    * This function must return a list of of valid English words. Please do **not** print the results.\n",
    "<br/><br/>\n",
    " 2. Write a function `anagrams` that will generate all the anagrams for a given word (in our case, we'll be providing it jumbled words. This function:\n",
    "    * **must** use recursion to solve for the anagrams!\n",
    "    <br/><br/>\n",
    "    * **must** return a Python list of all generated anagrams (regardless of whether they are valid English words).\n",
    "    \n",
    "\n",
    "*Tip*: I have provided you with `words_list`, a function that will return a Python list of 274,926 words to use for finding valid English words from your anagrams. This can be your \"dictionary file\"."
   ]
  },
  {
   "cell_type": "markdown",
   "metadata": {
    "button": false,
    "new_sheet": false,
    "run_control": {
     "read_only": false
    }
   },
   "source": [
    "## <font color=green>Your Solution</font>\n",
    "\n",
    "*Use a variety of code, Markdown (text) cells below to create your solution. Nice outputs would be timing results, and even plots. You will be graded not only on correctness, but the clarity of your code, descriptive text and other output. Keep it succinct!*"
   ]
  },
  {
   "cell_type": "code",
   "execution_count": 40,
   "metadata": {},
   "outputs": [],
   "source": [
    "import requests\n",
    "def words_list():\n",
    "    \"\"\"Downloads and procsses a word list containing 274,926 words!\n",
    "    You may need to install the 'requests' package through the `pip install requests`.\n",
    "    \"\"\"\n",
    "    req = requests.get(\"https://raw.githubusercontent.com/sindresorhus/word-list/master/words.txt\")\n",
    "    words = req.text.split(\"\\n\")\n",
    "    return words"
   ]
  },
  {
   "cell_type": "code",
   "execution_count": 22,
   "metadata": {
    "button": false,
    "new_sheet": false,
    "run_control": {
     "read_only": false
    }
   },
   "outputs": [],
   "source": [
    "# Define jumble_decode\n",
    "def jumble_decode(word):\n",
    "    word_list = words_list()\n",
    "    anagenerate=anagrams(word)\n",
    "    # Check and restore the word in the dictionary file \n",
    "    result=[] \n",
    "    for ana in anagenerate:\n",
    "        if ana in word_list:\n",
    "            result.append(ana)\n",
    "    \n",
    "    return result "
   ]
  },
  {
   "cell_type": "code",
   "execution_count": 23,
   "metadata": {},
   "outputs": [],
   "source": [
    "# Define anagram using recursion \n",
    "def anagrams(word):\n",
    "    n=len(word)\n",
    "    if n < 2:\n",
    "        return str(word)\n",
    "    # Create a list to store the result   \n",
    "    res=[]\n",
    "    # Permutate the word \n",
    "    for i in range(n):\n",
    "        current = word[i]\n",
    "        rest = word[:i]+word[i+1:]\n",
    "        array = anagrams(rest)\n",
    "        for j in array:\n",
    "            temp_res = current+j\n",
    "            if temp_res not in res:\n",
    "                res.append(temp_res)\n",
    "            \n",
    "    return res\n"
   ]
  },
  {
   "cell_type": "markdown",
   "metadata": {},
   "source": [
    "## Testing\n",
    "\n",
    "Test your class by calling `jumble_decode` on jumbled words and see if your anagram program correctly provides viable English word solutions of for that jumbled word."
   ]
  },
  {
   "cell_type": "code",
   "execution_count": 32,
   "metadata": {},
   "outputs": [],
   "source": [
    "import timeit "
   ]
  },
  {
   "cell_type": "code",
   "execution_count": 35,
   "metadata": {
    "button": false,
    "new_sheet": false,
    "run_control": {
     "read_only": false
    }
   },
   "outputs": [
    {
     "name": "stdout",
     "output_type": "stream",
     "text": [
      "CPU times: user 268 ms, sys: 21.1 ms, total: 289 ms\n",
      "Wall time: 1.29 s\n"
     ]
    },
    {
     "data": {
      "text/plain": [
       "['pepla', 'apple', 'appel']"
      ]
     },
     "execution_count": 35,
     "metadata": {},
     "output_type": "execute_result"
    }
   ],
   "source": [
    "# For example\n",
    "%time jumble_decode(\"plaep\")"
   ]
  },
  {
   "cell_type": "code",
   "execution_count": 36,
   "metadata": {},
   "outputs": [
    {
     "name": "stdout",
     "output_type": "stream",
     "text": [
      "CPU times: user 152 ms, sys: 24.5 ms, total: 176 ms\n",
      "Wall time: 824 ms\n"
     ]
    },
    {
     "data": {
      "text/plain": [
       "['rain', 'rani', 'airn']"
      ]
     },
     "execution_count": 36,
     "metadata": {},
     "output_type": "execute_result"
    }
   ],
   "source": [
    "%time jumble_decode(\"rain\")"
   ]
  },
  {
   "cell_type": "code",
   "execution_count": 37,
   "metadata": {},
   "outputs": [
    {
     "name": "stdout",
     "output_type": "stream",
     "text": [
      "CPU times: user 94.6 ms, sys: 21.3 ms, total: 116 ms\n",
      "Wall time: 758 ms\n"
     ]
    },
    {
     "data": {
      "text/plain": [
       "['act', 'cat']"
      ]
     },
     "execution_count": 37,
     "metadata": {},
     "output_type": "execute_result"
    }
   ],
   "source": [
    "%time jumble_decode(\"tac\")"
   ]
  },
  {
   "cell_type": "code",
   "execution_count": 38,
   "metadata": {},
   "outputs": [
    {
     "name": "stdout",
     "output_type": "stream",
     "text": [
      "CPU times: user 18.6 s, sys: 94.8 ms, total: 18.7 s\n",
      "Wall time: 19.4 s\n"
     ]
    },
    {
     "data": {
      "text/plain": [
       "['upright']"
      ]
     },
     "execution_count": 38,
     "metadata": {},
     "output_type": "execute_result"
    }
   ],
   "source": [
    "%time jumble_decode(\"rightup\")"
   ]
  },
  {
   "cell_type": "code",
   "execution_count": 41,
   "metadata": {},
   "outputs": [
    {
     "name": "stdout",
     "output_type": "stream",
     "text": [
      "CPU times: user 2.6 s, sys: 37.9 ms, total: 2.64 s\n",
      "Wall time: 3.29 s\n"
     ]
    },
    {
     "data": {
      "text/plain": [
       "[]"
      ]
     },
     "execution_count": 41,
     "metadata": {},
     "output_type": "execute_result"
    }
   ],
   "source": [
    "%time jumble_decode(\"Sunday\")"
   ]
  }
 ],
 "metadata": {
  "kernelspec": {
   "display_name": "Python 3",
   "language": "python",
   "name": "python3"
  },
  "language_info": {
   "codemirror_mode": {
    "name": "ipython",
    "version": 3
   },
   "file_extension": ".py",
   "mimetype": "text/x-python",
   "name": "python",
   "nbconvert_exporter": "python",
   "pygments_lexer": "ipython3",
   "version": "3.6.4"
  }
 },
 "nbformat": 4,
 "nbformat_minor": 2
}
