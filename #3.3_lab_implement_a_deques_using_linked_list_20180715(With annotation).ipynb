{
 "cells": [
  {
   "cell_type": "markdown",
   "metadata": {
    "button": false,
    "new_sheet": false,
    "run_control": {
     "read_only": false
    }
   },
   "source": [
    "# Lab 5: Deques"
   ]
  },
  {
   "cell_type": "markdown",
   "metadata": {
    "button": false,
    "new_sheet": false,
    "run_control": {
     "read_only": false
    }
   },
   "source": [
    "## <font color=DarkRed>Your Exercise: Implement a deques using linked lists.</font>\n",
    "\n",
    "Our in-class implementation of the `Deque` class uses the Python `list` data type as the underlying data structure. Replace this with with a linked list."
   ]
  },
  {
   "cell_type": "markdown",
   "metadata": {
    "button": false,
    "new_sheet": false,
    "run_control": {
     "read_only": false
    }
   },
   "source": [
    "## <font color=green>Your Solution</font>\n",
    "\n",
    "*Use a variety of code, Markdown (text) cells below to create your solution. Nice outputs would be timing results, and even plots. You will be graded not only on correctness, but the clarity of your code, descriptive text and other output. Keep it succinct.*"
   ]
  },
  {
   "cell_type": "code",
   "execution_count": 23,
   "metadata": {
    "button": false,
    "new_sheet": false,
    "run_control": {
     "read_only": false
    }
   },
   "outputs": [],
   "source": [
    "# Define a node \n",
    "class Node():\n",
    "    def __init__(self, init_data):\n",
    "        self.data = init_data\n",
    "        self.next = None\n",
    "\n",
    "class Deque:\n",
    "    def __init__(self):\n",
    "        self.head = None\n",
    "        self.tail = None\n",
    "        self.count = 0\n",
    "        \n",
    "    def is_empty(self):\n",
    "        return self.head == None and self.tail == None\n",
    "    \n",
    "    def addFront(self, data):\n",
    "        # if the queue is empty, add new node and update head and tail\n",
    "        if self.is_empty():\n",
    "            self.head = Node(data)\n",
    "            self.head = self.tail\n",
    "            \n",
    "        # if the queue is not empty, add new node and update head\n",
    "        else:\n",
    "            new_node = Node(data)\n",
    "            new_node.next = self.head.next\n",
    "            self.head = new_node\n",
    "       \n",
    "        # add new node, count add 1\n",
    "        self.count = self.count + 1\n",
    "        \n",
    "    def addRear(self, data):\n",
    "        # if the queue is empty, add new node and update head and tail\n",
    "        if self.is_empty():\n",
    "            self.tail = Node(data)\n",
    "            self.head = self.tail\n",
    "            \n",
    "        # if the queue is not empty, add new node to the tail\n",
    "        else:\n",
    "            ptr = self.head\n",
    "            while ptr != self.tail:\n",
    "                ptr = ptr.next\n",
    "            self.tail = Node(data)\n",
    "            ptr.next = self.tail\n",
    "            \n",
    "        # add new node, count add 1\n",
    "        self.count = self.count + 1\n",
    "    \n",
    "    def removeFront(self):\n",
    "        # if the Queue is empty, return None\n",
    "        if  self.is_empty():\n",
    "            return None\n",
    "        \n",
    "        # if the Queus is not empty, return the head and set a new head\n",
    "        else:\n",
    "            # if there is only one node left, update tail\n",
    "            if self.tail == self.head:\n",
    "                self.tail = None\n",
    "            # if more than one node in the queue, return head and set new head\n",
    "            result = self.head.data \n",
    "            self.head = self.head.next\n",
    "            # remove node, count minus 1\n",
    "            self.count = self.count - 1\n",
    "            return result \n",
    "\n",
    "    def removeRear(self):\n",
    "        # if Queue is empty, return none\n",
    "        if self.is_empty():\n",
    "            return None\n",
    "        \n",
    "        # if Queue is not empty\n",
    "        # use previous to find the node just before the tail\n",
    "        previous = None\n",
    "        ptr = self.head\n",
    "        while ptr != self.tail:\n",
    "            previous = ptr\n",
    "            ptr = ptr.next\n",
    "        \n",
    "        # if there is only one node left, then clear out the queue and return the last value\n",
    "        if previous == None:\n",
    "            self.head = None\n",
    "            self.tail = None\n",
    "            result = ptr.data\n",
    "        # if there exists more than one data, return the tail and set previous as the new tail\n",
    "        else:\n",
    "            result = ptr.data\n",
    "            self.tail = previous\n",
    "        \n",
    "        # remove node, count minus 1\n",
    "        self.count = self.count - 1\n",
    "        return result\n",
    "    \n",
    "    def size(self):\n",
    "        # count is updated at each operation, so just return the count value\n",
    "        return self.count"
   ]
  },
  {
   "cell_type": "markdown",
   "metadata": {
    "button": false,
    "new_sheet": false,
    "run_control": {
     "read_only": false
    }
   },
   "source": [
    "## Testing\n",
    "### Palindrome Checker\n",
    "\n",
    "When finished, test your updated `Queue` class by running the **palindrome checker** from the textbook."
   ]
  },
  {
   "cell_type": "code",
   "execution_count": 24,
   "metadata": {
    "button": false,
    "new_sheet": false,
    "run_control": {
     "read_only": false
    }
   },
   "outputs": [],
   "source": [
    "# define the palchecker\n",
    "def palchecker(aString):\n",
    "    chardeque = Deque()\n",
    "\n",
    "    for ch in aString:\n",
    "        chardeque.addRear(ch)\n",
    "\n",
    "    stillEqual = True\n",
    "\n",
    "    while chardeque.size() > 1 and stillEqual:\n",
    "        first = chardeque.removeFront()\n",
    "        last = chardeque.removeRear()\n",
    "        if first != last:\n",
    "            stillEqual = False\n",
    "\n",
    "    return stillEqual"
   ]
  },
  {
   "cell_type": "code",
   "execution_count": 30,
   "metadata": {},
   "outputs": [
    {
     "data": {
      "text/plain": [
       "True"
      ]
     },
     "execution_count": 30,
     "metadata": {},
     "output_type": "execute_result"
    }
   ],
   "source": [
    "# test the updated Queue\n",
    "palchecker(\"w\")"
   ]
  },
  {
   "cell_type": "code",
   "execution_count": 31,
   "metadata": {},
   "outputs": [
    {
     "data": {
      "text/plain": [
       "True"
      ]
     },
     "execution_count": 31,
     "metadata": {},
     "output_type": "execute_result"
    }
   ],
   "source": [
    "# test the updated Queue\n",
    "palchecker(\"radar\")"
   ]
  },
  {
   "cell_type": "code",
   "execution_count": 32,
   "metadata": {},
   "outputs": [
    {
     "data": {
      "text/plain": [
       "False"
      ]
     },
     "execution_count": 32,
     "metadata": {},
     "output_type": "execute_result"
    }
   ],
   "source": [
    "palchecker(\"standard\")"
   ]
  },
  {
   "cell_type": "code",
   "execution_count": 33,
   "metadata": {},
   "outputs": [
    {
     "data": {
      "text/plain": [
       "False"
      ]
     },
     "execution_count": 33,
     "metadata": {},
     "output_type": "execute_result"
    }
   ],
   "source": [
    "palchecker(\"Repaper\")"
   ]
  }
 ],
 "metadata": {
  "kernelspec": {
   "display_name": "Python 3",
   "language": "python",
   "name": "python3"
  },
  "language_info": {
   "codemirror_mode": {
    "name": "ipython",
    "version": 3
   },
   "file_extension": ".py",
   "mimetype": "text/x-python",
   "name": "python",
   "nbconvert_exporter": "python",
   "pygments_lexer": "ipython3",
   "version": "3.6.5"
  }
 },
 "nbformat": 4,
 "nbformat_minor": 2
}
