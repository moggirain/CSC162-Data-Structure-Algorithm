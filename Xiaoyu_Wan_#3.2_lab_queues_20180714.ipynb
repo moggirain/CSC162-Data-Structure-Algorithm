{
 "cells": [
  {
   "cell_type": "markdown",
   "metadata": {
    "button": false,
    "new_sheet": false,
    "run_control": {
     "read_only": false
    }
   },
   "source": [
    "# Lab 4: Queues"
   ]
  },
  {
   "cell_type": "markdown",
   "metadata": {
    "button": false,
    "new_sheet": false,
    "run_control": {
     "read_only": false
    }
   },
   "source": [
    "## <font color=DarkRed>Your Exercise: Implement a queue using linked lists.</font>\n",
    "\n",
    "Our in-class implementation of the `Queue` class uses the Python `list` data type as the underlying data structure. Replace this with with a linked list."
   ]
  },
  {
   "cell_type": "markdown",
   "metadata": {
    "button": false,
    "new_sheet": false,
    "run_control": {
     "read_only": false
    }
   },
   "source": [
    "## <font color=green>Your Solution</font>\n",
    "\n",
    "*Use a variety of code, Markdown (text) cells below to create your solution. Nice outputs would be timing results, and even plots. You will be graded not only on correctness, but the clarity of your code, descriptive text and other output. Keep it succinct.*"
   ]
  },
  {
   "cell_type": "code",
   "execution_count": 65,
   "metadata": {
    "button": false,
    "new_sheet": false,
    "run_control": {
     "read_only": false
    }
   },
   "outputs": [],
   "source": [
    "# Define a Node\n",
    "\n",
    "class Node():\n",
    "    def __init__(self, init_data):\n",
    "        self.data = init_data\n",
    "        self.next = None\n",
    "        \n",
    "# Define a Queue and its functions  \n",
    "class Queue:\n",
    "    def __init__(self):\n",
    "        self.head = None\n",
    "        self.tail = None\n",
    "        self.count = 0 \n",
    "# Check if the stack is empty     \n",
    "    def is_empty(self):\n",
    "       \n",
    "        return self.head == None and self.tail == None \n",
    "    \n",
    "# Add a new value to a queue\n",
    "    def enqueue (self, data):\n",
    "        if  self.is_empty():\n",
    "            self.tail = Node(data)\n",
    "            self.head = self.tail \n",
    "                \n",
    "        else:\n",
    "            new_node = Node(data)\n",
    "            self.tail.next = new_node\n",
    "            self.tail = new_node\n",
    "            \n",
    "        self.count= self.count+1\n",
    "            \n",
    "# remove a value from a queue       \n",
    "    def dequeue(self):\n",
    "        if  self.is_empty():\n",
    "            return None \n",
    "        else:    \n",
    "            result = self.head.data \n",
    "            self.head=self.head.next\n",
    "            \n",
    "            self.count= self.count-1\n",
    "            \n",
    "            return result \n",
    "        \n",
    "# define the size of the queue       \n",
    "    def size(self):\n",
    "        return self.count\n",
    "    \n",
    "    def __str__(self):\n",
    "        x = self.head\n",
    "        string = \"[\"\n",
    "        while x != self.tail:\n",
    "            string += x.data\n",
    "            string += \",\"\n",
    "            x = x.next\n",
    "        string += x.data\n",
    "        string += \"]\"\n",
    "        return string"
   ]
  },
  {
   "cell_type": "markdown",
   "metadata": {
    "button": false,
    "new_sheet": false,
    "run_control": {
     "read_only": false
    }
   },
   "source": [
    "## Testing\n",
    "### Hot Potato Simulation\n",
    "When finished, test your updated `Queue` class by running the **hot potato simulation** from the textbook."
   ]
  },
  {
   "cell_type": "code",
   "execution_count": 66,
   "metadata": {
    "button": false,
    "new_sheet": false,
    "run_control": {
     "read_only": false
    }
   },
   "outputs": [],
   "source": [
    "# Define hot potato simulation \n",
    "def hot_potato(name_list, num):\n",
    "    simqueue = Queue()\n",
    "    \n",
    "    for name in name_list:\n",
    "        simqueue.enqueue(name)\n",
    "        \n",
    "    while simqueue.size() >1: # \n",
    "        for i in range (num):\n",
    "            simqueue.enqueue(simqueue.dequeue())\n",
    "        simqueue.dequeue()\n",
    "        print(simqueue)\n",
    "            \n",
    "    return simqueue.dequeue()"
   ]
  },
  {
   "cell_type": "code",
   "execution_count": 67,
   "metadata": {},
   "outputs": [
    {
     "name": "stdout",
     "output_type": "stream",
     "text": [
      "[Lily,Nick,Sandy,David,Susan,Jane,Kim]\n",
      "[Kim,Lily,Nick,Sandy,David,Susan]\n",
      "[Kim,Lily,Nick,Sandy,David]\n",
      "[Lily,Nick,Sandy,David]\n",
      "[Sandy,David,Lily]\n",
      "[Sandy,David]\n",
      "[Sandy]\n"
     ]
    },
    {
     "data": {
      "text/plain": [
       "'Sandy'"
      ]
     },
     "execution_count": 67,
     "metadata": {},
     "output_type": "execute_result"
    }
   ],
   "source": [
    "# Test the update Queue class \n",
    "hot_potato([\"Sandy\",\"David\",\"Susan\",\"Jane\",\"Kim\",\"Sue\",\"Lily\",\"Nick\"],5)"
   ]
  },
  {
   "cell_type": "code",
   "execution_count": 68,
   "metadata": {},
   "outputs": [
    {
     "name": "stdout",
     "output_type": "stream",
     "text": [
      "[Jane,Kim,Sue,Lily,Nick,Sandy,David]\n",
      "[Lily,Nick,Sandy,David,Jane,Kim]\n",
      "[David,Jane,Kim,Lily,Nick]\n",
      "[Lily,Nick,David,Jane]\n",
      "[Jane,Lily,Nick]\n",
      "[Jane,Lily]\n",
      "[Lily]\n"
     ]
    },
    {
     "data": {
      "text/plain": [
       "'Lily'"
      ]
     },
     "execution_count": 68,
     "metadata": {},
     "output_type": "execute_result"
    }
   ],
   "source": [
    "# Test the update Queue class \n",
    "hot_potato([\"Sandy\",\"David\",\"Susan\",\"Jane\",\"Kim\",\"Sue\",\"Lily\",\"Nick\"],2)"
   ]
  },
  {
   "cell_type": "code",
   "execution_count": null,
   "metadata": {},
   "outputs": [],
   "source": []
  }
 ],
 "metadata": {
  "kernelspec": {
   "display_name": "Python 3",
   "language": "python",
   "name": "python3"
  },
  "language_info": {
   "codemirror_mode": {
    "name": "ipython",
    "version": 3
   },
   "file_extension": ".py",
   "mimetype": "text/x-python",
   "name": "python",
   "nbconvert_exporter": "python",
   "pygments_lexer": "ipython3",
   "version": "3.6.4"
  }
 },
 "nbformat": 4,
 "nbformat_minor": 2
}
