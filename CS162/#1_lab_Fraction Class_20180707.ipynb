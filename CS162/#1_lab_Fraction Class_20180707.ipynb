{
 "cells": [
  {
   "cell_type": "markdown",
   "metadata": {
    "button": false,
    "new_sheet": false,
    "run_control": {
     "read_only": false
    }
   },
   "source": [
    "# Lab 1: Python Review"
   ]
  },
  {
   "cell_type": "markdown",
   "metadata": {
    "button": false,
    "new_sheet": false,
    "run_control": {
     "read_only": false
    }
   },
   "source": [
    "## Fraction Class\n",
    "\n",
    "The textbook provides this minimally function `Fraction` class. You will complete several exercises to improve on the design of this custom data type.\n",
    "\n",
    "The function `gcd`, defined below, is necessary for `Fraction` to work."
   ]
  },
  {
   "cell_type": "code",
   "execution_count": 5,
   "metadata": {
    "button": false,
    "new_sheet": false,
    "run_control": {
     "read_only": false
    }
   },
   "outputs": [],
   "source": [
    "def gcd(m, n):\n",
    "    \"\"\"Greatest Common Divisor\n",
    "    M&R listing 1.6: Greatest Common Divisor Function\n",
    "    \"\"\"\n",
    "    while m % n != 0:\n",
    "        oldm = m\n",
    "        oldn = n\n",
    "\n",
    "        m = oldn\n",
    "        n = oldm % oldn\n",
    "    return n"
   ]
  },
  {
   "cell_type": "markdown",
   "metadata": {
    "button": false,
    "new_sheet": false,
    "run_control": {
     "read_only": false
    }
   },
   "source": [
    "## Your Exercises\n",
    "\n",
    " 1. Implement these simple 'getter' methods for class `Fraction`:\n",
    " \n",
    "    * `get_num` to return the numerator\n",
    "    * `get_den` to return the denominator.\n",
    "\n",
    " 1. In many ways it would be better if all fractions were maintained in lowest\n",
    "    terms right from the start. Modify the initializer for the `Fraction`\n",
    "    class so that the GCD alogorithm is used to reduce fractions immediately. \n",
    "    Notice that this means the `__add__` method no longer needs to reduce. Make the\n",
    "    necessary modifications.\n",
    "    \n",
    " 1. Implement the remaining relational operators to allow you to compare one `Fraction` object, with another.\n",
    "\n",
    "     * `__gt__`\n",
    "     * `__ge__`\n",
    "     * `__lt__`\n",
    "     * `__le__`\n",
    "     * `__ne__`\n",
    "     \n",
    " 1. In the definition of fractions we assumed that negative fractions have a\n",
    "    negative numerator and a positive denominator. Using a negative denominator\n",
    "    would cause some of the relational operators to give incorrect results. In\n",
    "    general, this is an unnecessary constraint. Modify the constructor to allow\n",
    "    the user to pass a negative denominator so that all of the operators continue\n",
    "    to work properly."
   ]
  },
  {
   "cell_type": "markdown",
   "metadata": {
    "button": false,
    "new_sheet": false,
    "run_control": {
     "read_only": false
    }
   },
   "source": [
    "## <font color=green>Your Solution</font>\n",
    "\n",
    "Implement your solution to the exercises by modifying the `Fraction` class, below, and add your code to it. To make it clear, please use docstrings and comments where appropriate to state which parts of the `Fraction` class are being modified, and for *which* exercise."
   ]
  },
  {
   "cell_type": "code",
   "execution_count": 131,
   "metadata": {},
   "outputs": [],
   "source": [
    "class Fraction:\n",
    "    \"\"\"A class to represent fractions\n",
    "    This code needs to be improved according to the exercises!\n",
    "    \"\"\"\n",
    "    \n",
    "#Q2 Modify the initializer for the Fraction   \n",
    "    def __init__(self, top, bottom):\n",
    "# To guard the demoniator value not equal to zero and send a warning \n",
    "        if bottom==0:\n",
    "            print(\"ValueError: Denominator equals to Zero!\")\n",
    "            self.num = top\n",
    "            self.den = bottom \n",
    "            return\n",
    "# Use the GCD alogorithm to reduce fractions immediately\n",
    "        common=gcd(top, bottom)\n",
    "        self.num = top//common\n",
    "        self.den = bottom//common \n",
    "        \n",
    "    def __str__(self):\n",
    "        return str(self.num) + \"/\" + str(self.den)\n",
    "    \n",
    "#Q1 _get_num_& get_den\n",
    "    def getnum(self):\n",
    "        return self.num\n",
    "    \n",
    "    def getden(self):\n",
    "        return self.den\n",
    "    \n",
    "    def show(self):\n",
    "        \"\"\"Display the fraction\"\"\"\n",
    "        print(self.num, \"/\", self.den)\n",
    "\n",
    "#Q4 Modify the constructor to allow the user to pass a negative denominator  \n",
    "\n",
    "#Build the function to detect the negative fraction   \n",
    "    def IsNegative(self,p):    \n",
    "        return p.num*p.den<0\n",
    "  \n",
    "    def __add__(self, otherfraction):\n",
    "        selfIsNegative = self.IsNegative(self)\n",
    "        otherIsNegative = self.IsNegative(otherfraction)\n",
    "# List four types of caculation situations to make sure the negative demoninators continue to work properly    \n",
    "        # A Positive fraction adds a negative fraction \n",
    "        if selfIsNegative is False and otherIsNegative:\n",
    "            newnum=abs(self.num*otherfraction.den)-abs(self.den*otherfraction.num)\n",
    "            newden=abs(self.den*otherfraction.den)\n",
    "        # A negative fraction adds a positive fraction \n",
    "        elif selfIsNegative and otherIsNegative is False:\n",
    "            newnum=abs(otherfraction.num*self.den)-abs(self.num*otherfraction.den)\n",
    "            newden=abs(self.den*otherfraction.den)\n",
    "        # A positive fraction adds a positive fraction \n",
    "        elif selfIsNegative is False and otherIsNegative is False:\n",
    "            newnum = (self.num*otherfraction.den + self.den*otherfraction.num)\n",
    "            newden = self.den * otherfraction.den\n",
    "        # A negative fraction adds a negative fraction \n",
    "        else:\n",
    "            newnum = abs(self.num*otherfraction.den) + abs(self.den*otherfraction.num)\n",
    "            newden = abs(self.den * otherfraction.den)*(-1)   \n",
    "        return Fraction(newnum, newden)\n",
    "\n",
    "    def __eq__(self, other):\n",
    "        firstnum = self.num * other.den\n",
    "        secondnum = other.num * self.den\n",
    "        return firstnum == secondnum\n",
    "    \n",
    "#Q3 Implement the following relational operators\n",
    "    #__gt__\n",
    "    def __gt__(self, other):\n",
    "        return self.num * other.den > other.num * self.den\n",
    "    #__ge__\n",
    "    def __ge__(self, other):\n",
    "        return self.num * other.den >= other.num * self.den\n",
    "    #__lt__\n",
    "    def __lt__(self, other):\n",
    "        return self.num * other.den < other.num * self.den\n",
    "    #__le__\n",
    "    def __le__(self, other):\n",
    "        return self.num * other.den <= other.num * self.den\n",
    "    #__ne__\n",
    "    def __ne__(self, other):\n",
    "        return self.num * other.den != other.num * self.den"
   ]
  },
  {
   "cell_type": "markdown",
   "metadata": {
    "button": false,
    "new_sheet": false,
    "run_control": {
     "read_only": false
    }
   },
   "source": [
    "## Testing\n",
    "\n",
    "For full credit, you must also test your solution so that you can prove to the grade your solution works."
   ]
  },
  {
   "cell_type": "code",
   "execution_count": 132,
   "metadata": {
    "button": false,
    "new_sheet": false,
    "run_control": {
     "read_only": false
    }
   },
   "outputs": [],
   "source": [
    "x = Fraction(1, 2)\n",
    "y = Fraction(5, 4)"
   ]
  },
  {
   "cell_type": "code",
   "execution_count": 133,
   "metadata": {
    "button": false,
    "new_sheet": false,
    "run_control": {
     "read_only": false
    }
   },
   "outputs": [
    {
     "name": "stdout",
     "output_type": "stream",
     "text": [
      "7/4\n"
     ]
    }
   ],
   "source": [
    "print(x+y)"
   ]
  },
  {
   "cell_type": "code",
   "execution_count": 134,
   "metadata": {
    "button": false,
    "new_sheet": false,
    "run_control": {
     "read_only": false
    }
   },
   "outputs": [
    {
     "name": "stdout",
     "output_type": "stream",
     "text": [
      "False\n"
     ]
    }
   ],
   "source": [
    "print(x == y)"
   ]
  },
  {
   "cell_type": "code",
   "execution_count": 137,
   "metadata": {},
   "outputs": [
    {
     "name": "stdout",
     "output_type": "stream",
     "text": [
      "num is : 1\n",
      "den is : 2\n"
     ]
    }
   ],
   "source": [
    "print(\"num is :\",x.getnum())\n",
    "print(\"den is :\",x.getden())"
   ]
  },
  {
   "cell_type": "code",
   "execution_count": 123,
   "metadata": {},
   "outputs": [
    {
     "data": {
      "text/plain": [
       "False"
      ]
     },
     "execution_count": 123,
     "metadata": {},
     "output_type": "execute_result"
    }
   ],
   "source": [
    "x>y"
   ]
  },
  {
   "cell_type": "code",
   "execution_count": 124,
   "metadata": {},
   "outputs": [
    {
     "data": {
      "text/plain": [
       "False"
      ]
     },
     "execution_count": 124,
     "metadata": {},
     "output_type": "execute_result"
    }
   ],
   "source": [
    "x>=y"
   ]
  },
  {
   "cell_type": "code",
   "execution_count": 125,
   "metadata": {},
   "outputs": [
    {
     "data": {
      "text/plain": [
       "False"
      ]
     },
     "execution_count": 125,
     "metadata": {},
     "output_type": "execute_result"
    }
   ],
   "source": [
    "x==y"
   ]
  },
  {
   "cell_type": "code",
   "execution_count": 126,
   "metadata": {},
   "outputs": [
    {
     "data": {
      "text/plain": [
       "True"
      ]
     },
     "execution_count": 126,
     "metadata": {},
     "output_type": "execute_result"
    }
   ],
   "source": [
    "x!=y"
   ]
  },
  {
   "cell_type": "code",
   "execution_count": 127,
   "metadata": {},
   "outputs": [
    {
     "data": {
      "text/plain": [
       "True"
      ]
     },
     "execution_count": 127,
     "metadata": {},
     "output_type": "execute_result"
    }
   ],
   "source": [
    "x<=y"
   ]
  },
  {
   "cell_type": "code",
   "execution_count": 128,
   "metadata": {},
   "outputs": [
    {
     "data": {
      "text/plain": [
       "True"
      ]
     },
     "execution_count": 128,
     "metadata": {},
     "output_type": "execute_result"
    }
   ],
   "source": [
    "x<y"
   ]
  },
  {
   "cell_type": "code",
   "execution_count": 129,
   "metadata": {},
   "outputs": [
    {
     "name": "stdout",
     "output_type": "stream",
     "text": [
      "ValueError: Denominator equals to Zero!\n",
      "-1/0\n"
     ]
    }
   ],
   "source": [
    "z=Fraction(-1,0)\n",
    "print(z)"
   ]
  },
  {
   "cell_type": "code",
   "execution_count": 138,
   "metadata": {},
   "outputs": [
    {
     "name": "stdout",
     "output_type": "stream",
     "text": [
      "-23/20\n"
     ]
    }
   ],
   "source": [
    "a = Fraction(-2,5)\n",
    "b = Fraction(-3,4)\n",
    "print(a+b)"
   ]
  },
  {
   "cell_type": "code",
   "execution_count": 139,
   "metadata": {},
   "outputs": [
    {
     "name": "stdout",
     "output_type": "stream",
     "text": [
      "23/20\n"
     ]
    }
   ],
   "source": [
    "a = Fraction(2,5)\n",
    "b = Fraction(3,4)\n",
    "print(a+b)"
   ]
  },
  {
   "cell_type": "code",
   "execution_count": 140,
   "metadata": {},
   "outputs": [
    {
     "name": "stdout",
     "output_type": "stream",
     "text": [
      "7/20\n"
     ]
    }
   ],
   "source": [
    "a = Fraction(-2,5)\n",
    "b = Fraction(3,4)\n",
    "print(a+b)"
   ]
  },
  {
   "cell_type": "code",
   "execution_count": 141,
   "metadata": {},
   "outputs": [
    {
     "name": "stdout",
     "output_type": "stream",
     "text": [
      "-7/20\n"
     ]
    }
   ],
   "source": [
    "a = Fraction(2,5)\n",
    "b = Fraction(3,-4)\n",
    "print(a+b)"
   ]
  }
 ],
 "metadata": {
  "kernelspec": {
   "display_name": "Python 3",
   "language": "python",
   "name": "python3"
  },
  "language_info": {
   "codemirror_mode": {
    "name": "ipython",
    "version": 3
   },
   "file_extension": ".py",
   "mimetype": "text/x-python",
   "name": "python",
   "nbconvert_exporter": "python",
   "pygments_lexer": "ipython3",
   "version": "3.6.4"
  }
 },
 "nbformat": 4,
 "nbformat_minor": 2
}
