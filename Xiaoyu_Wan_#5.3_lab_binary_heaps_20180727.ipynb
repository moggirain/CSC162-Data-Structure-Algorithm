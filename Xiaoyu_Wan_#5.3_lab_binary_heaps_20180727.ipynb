{
 "cells": [
  {
   "cell_type": "markdown",
   "metadata": {
    "button": false,
    "new_sheet": false,
    "run_control": {
     "read_only": false
    }
   },
   "source": [
    "# Lab 11: Priority Queues with Binary Heaps"
   ]
  },
  {
   "cell_type": "markdown",
   "metadata": {
    "button": false,
    "new_sheet": false,
    "run_control": {
     "read_only": false
    }
   },
   "source": [
    "## <font color=DarkRed>Your Exercise: Implement a Priority Queue</font>\n",
    "\n",
    "Implement a new class called `PriorityQueue`, based on the `BinaryHeap` class. The heap will be a **min heap**, meaning the smalles priority value is the root of the tree, and thus has the highest priority.\n",
    "\n",
    "You have two objectives:\n",
    "\n",
    "1. When creating a binary heap for your `PriorityQueue`, you will now **limit** the heap size. In other words, the heap only keeps track of the $n$ most important items. If the heap grows in size to more than $n$ items the least important item is *dropped*. \n",
    "\n",
    "\n",
    "\n",
    "2. Your `PriorityQueue` class should implement the following methods:\n",
    "  * `__init__(n)`\n",
    "  \n",
    "     Initialize an empty priority queue, with a maximum size of $n$.\n",
    "     <br/>\n",
    "     <br/>\n",
    "\n",
    "  * `enqueue(val, priority)`\n",
    "  \n",
    "     Adds `val` (any object, e.g. `str` or `int`) to the priority queue with the specified priority (an `int`). Smaller priority numbers correspond to higher priorities, which means that all priority 1 elements are dequeued before any priority 2 elements.\n",
    "\n",
    "     Negative priorities are allowed and are not treated differently from other values. That is, a priority of -1 comes before one of 0, which comes before 1, 2, 3, etc.\n",
    "\n",
    "     This function is **required** to check that priority numbers are `ints`. \n",
    "     <br/>\n",
    "     <br/>\n",
    "     \n",
    "  * `dequeue`\n",
    "  \n",
    "     Removes and returns the highest priority value. If multiple entries in the queue have the same priority, those values are dequeued in the same order in which they were enqueued.\n",
    "\n",
    "     This function is **require** to raise an exception if the queue is empty. \n",
    "\n",
    "\n",
    "*Hint:* Storing tuple pairs of values will be very helpful here."
   ]
  },
  {
   "cell_type": "markdown",
   "metadata": {
    "button": false,
    "new_sheet": false,
    "run_control": {
     "read_only": false
    }
   },
   "source": [
    "## <font color=green>Your Solution</font>\n",
    "\n",
    "*Use a variety of code, Markdown (text) cells below to create your solution. Nice outputs would be timing results, and even plots. You will be graded not only on correctness, but the clarity of your code, descriptive text and other output. Keep it succinct!*"
   ]
  },
  {
   "cell_type": "code",
   "execution_count": 6,
   "metadata": {},
   "outputs": [],
   "source": [
    "# Build the binary heap \n",
    "class BinaryHeap:\n",
    "    def __init__(self):\n",
    "        self.heap_list = [0]\n",
    "        self.current_size = 0\n",
    "        \n",
    "    def perc_up(self, i):\n",
    "        while i // 2 > 0:\n",
    "            if self.heap_list[i][0] < self.heap_list[i//2][0]: # index the priority in the tuple \n",
    "                tmp = self.heap_list[i//2]\n",
    "                self.heap_list[i//2] = self.heap_list[i]\n",
    "                self.heap_list[i] = tmp\n",
    "            i //= 2\n",
    "            \n",
    "    def insert(self, k):\n",
    "        self.heap_list.append(k)\n",
    "        self.current_size += 1\n",
    "        self.perc_up(self.current_size)\n",
    "        \n",
    "    def perc_down(self, i):\n",
    "        while (i * 2) <=  self.current_size:\n",
    "            mc = self.min_child(i)\n",
    "            if self.heap_list[i][0] > self.heap_list[mc][0]: # index the priority in the tuple \n",
    "                tmp = self.heap_list[i]\n",
    "                self.heap_list[i] = self.heap_list[mc]\n",
    "                self.heap_list[mc] = tmp\n",
    "                \n",
    "            i = mc\n",
    "            \n",
    "    def min_child(self, i):\n",
    "        if i * 2 + 1 > self.current_size:\n",
    "            return i * 2\n",
    "        else:\n",
    "            if self.heap_list[i*2][0] < self.heap_list[i*2+1][0]: # index the priority in the tuple \n",
    "                return i*2  # left child of parent node at i\n",
    "            else:\n",
    "                return i*2+1 # right child of parent node at i\n",
    "            \n",
    "    def del_min(self):\n",
    "        retval = self.heap_list[1][1]    # index the value in the tuple \n",
    "        self.heap_list[1] = self.heap_list.pop()  # or, self.heap_list[self.current_size]\n",
    "        self.current_size -= 1\n",
    "        self.perc_down(1)\n",
    "        return retval\n",
    "    \n",
    "    def build_heap(self, alist):\n",
    "        i = len(alist)//2\n",
    "        self.current_size = len(alist)\n",
    "        self.heap_list = [0] + alist  # copies alist\n",
    "        while i > 0:\n",
    "            self.perc_down(i)\n",
    "            i -= 1"
   ]
  },
  {
   "cell_type": "code",
   "execution_count": 22,
   "metadata": {},
   "outputs": [],
   "source": [
    "# Build the priorityqueue\n",
    "class PriorityQueue:\n",
    "    \n",
    "    def __init__(self,n):\n",
    "        self.heap = BinaryHeap() # Use the binaryheap \n",
    "        self.currentsize=0       # Set the currentsize as 0\n",
    "        self.maxsize=n           # Set the max size as n\n",
    "\n",
    "    def enqueue(self, priority, val): # add value with the specified priority \n",
    "        if self.currentsize >= self.maxsize: # check the size of the queue\n",
    "            self.dequeue()\n",
    "        if isinstance(priority,int):     # Check the type of the input priority\n",
    "            self.heap.insert((priority, val)) # Insert priority and value as a tuple\n",
    "            self.currentsize+=1               # current size adds one \n",
    "        else:\n",
    "            raise TypeError(\"The value is not an integer!\") # raise type error is the input value is not an int\n",
    "           \n",
    "    def dequeue(self):\n",
    "        if self.currentsize == 0: # check the current size of the queue\n",
    "            raise ValueError (\"Empty queue!\")\n",
    "            \n",
    "        return self.heap.del_min() # delete the least priority value\n",
    "        \n",
    "        self.currentsize-=1   # current size minus one"
   ]
  },
  {
   "cell_type": "markdown",
   "metadata": {},
   "source": [
    "## Testing\n",
    "\n",
    "Test out the `PriorityQueue` to show it works as advertised."
   ]
  },
  {
   "cell_type": "code",
   "execution_count": 23,
   "metadata": {},
   "outputs": [
    {
     "name": "stdout",
     "output_type": "stream",
     "text": [
      "5\n",
      "6\n",
      "7\n"
     ]
    }
   ],
   "source": [
    "myq = PriorityQueue(5)\n",
    "myq.enqueue(-1,5)\n",
    "myq.enqueue(-2,4)\n",
    "myq.enqueue(0,6)\n",
    "myq.enqueue(3,9)\n",
    "myq.enqueue(2,8)\n",
    "myq.enqueue(1,7)\n",
    "\n",
    "print (myq.dequeue())\n",
    "print (myq.dequeue())\n",
    "print (myq.dequeue())"
   ]
  }
 ],
 "metadata": {
  "kernelspec": {
   "display_name": "Python 3",
   "language": "python",
   "name": "python3"
  },
  "language_info": {
   "codemirror_mode": {
    "name": "ipython",
    "version": 3
   },
   "file_extension": ".py",
   "mimetype": "text/x-python",
   "name": "python",
   "nbconvert_exporter": "python",
   "pygments_lexer": "ipython3",
   "version": "3.6.4"
  }
 },
 "nbformat": 4,
 "nbformat_minor": 2
}
