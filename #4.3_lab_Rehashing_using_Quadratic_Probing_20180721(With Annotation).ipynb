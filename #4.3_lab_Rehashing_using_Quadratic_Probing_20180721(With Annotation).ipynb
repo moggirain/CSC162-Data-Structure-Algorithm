{
 "cells": [
  {
   "cell_type": "markdown",
   "metadata": {
    "button": false,
    "new_sheet": false,
    "run_control": {
     "read_only": false
    }
   },
   "source": [
    "# Lab 10: Hashing"
   ]
  },
  {
   "cell_type": "markdown",
   "metadata": {
    "button": false,
    "new_sheet": false,
    "run_control": {
     "read_only": false
    }
   },
   "source": [
    "## <font color=DarkRed>Your Exercise: Rehashing using Quadratic Probing.</font>\n",
    "\n",
    "Implement quadratic probing as a rehash technique. Use the `HashTable` implementation provided in my class notes."
   ]
  },
  {
   "cell_type": "markdown",
   "metadata": {
    "button": false,
    "new_sheet": false,
    "run_control": {
     "read_only": false
    }
   },
   "source": [
    "## <font color=green>Your Solution</font>\n",
    "\n",
    "*Use a variety of code, Markdown (text) cells below to create your solution. Nice outputs would be timing results, and even plots. You will be graded not only on correctness, but the clarity of your code, descriptive text and other output. Keep it succinct!*"
   ]
  },
  {
   "cell_type": "code",
   "execution_count": 39,
   "metadata": {},
   "outputs": [],
   "source": [
    "class HashTable:\n",
    "    def __init__(self, size):\n",
    "        self.size = size\n",
    "        self.slots = [None] * self.size\n",
    "        self.data = [None] * self.size\n",
    "\n",
    "    def put(self, key, data):\n",
    "        \n",
    "        if data is None:\n",
    "            raise ValueError(\"None cannot be stored in this hashtable\")\n",
    "            \n",
    "        hashvalue = self.hashfunction(key)\n",
    "        print(f\"First hashvalue = {hashvalue}\")\n",
    "        \n",
    "        if self.slots[hashvalue] == None:\n",
    "            print(f\"No collision, hashvalue = {hashvalue}\")\n",
    "            self.data[hashvalue] = data\n",
    "            self.slots[hashvalue] = key\n",
    "        else:\n",
    "            collisionCount = 1\n",
    "            if self.slots[hashvalue] == key:\n",
    "                print(f\"No collision, hashvalue = {hashvalue}, update hashtable\")\n",
    "                self.data[hashvalue] = data  # update/replace\n",
    "            else:  # collision circumstance\n",
    "                newHashValue = self.rehash(hashvalue, collisionCount)\n",
    "                print(f\"Collision, previous hashvalue = {hashvalue}, next hashvalue = {newHashValue}\")\n",
    "                while (self.slots[newHashValue] != None and\n",
    "                       self.slots[newHashValue] != key):\n",
    "                    collisionCount += 1\n",
    "                    newHashValue = self.rehash(hashvalue, collisionCount)\n",
    "                    print(f\"Collision again, next hashvalue = {newHashValue}\")\n",
    "                \n",
    "                # We only get here if the while loop ends, meaning we have space\n",
    "                # to add a value, or update an existing one\n",
    "                self.slots[newHashValue] = key  # updating or new data insertion\n",
    "                self.data[newHashValue] = data\n",
    "  \n",
    "    def get(self, key):\n",
    "        startslot = self.hashfunction(key) # call hashfunction using key\n",
    "        data = None\n",
    "        stop = False\n",
    "        found = False\n",
    "        position = startslot\n",
    "        \n",
    "        while (self.slots[position] != None and\n",
    "               not found and\n",
    "               not stop):\n",
    "            \n",
    "            if self.slots[position] == key:  # We've found it\n",
    "                found = True\n",
    "                data = self.data[position] # put the data into the position \n",
    "            else:\n",
    "                position = self.rehash(position) # continue rehash the position \n",
    "                if position == startslot:  # key is not in the dictionary/hashtable/map\n",
    "                    stop = True\n",
    "                    \n",
    "        return data\n",
    "\n",
    "    def hash(self, astring):\n",
    "        _sum = 0\n",
    "        for i, c in enumerate(astring, start=1): # enumerate is to put the order and the value \n",
    "            _sum = _sum + ord(c)*i   # convert the value to ascii number  \n",
    "        return _sum%self.size\n",
    "\n",
    "    def hashfunction(self, key):\n",
    "        if isinstance(key, int): # check if key is an int \n",
    "            h = self.hash(str(key)) # change it into the string\n",
    "        elif isinstance(key, str): # If the string\n",
    "            h = self.hash(key) # put directly as the key\n",
    "        else: # Other data type does not work \n",
    "            raise NotImplementedError(\"This data type isn't available for keys\")\n",
    "\n",
    "        return h  # Key must be an int or str\n",
    "\n",
    "    def rehash(self, oldhash, collisionCount):\n",
    "        if self.size == len(self):  # max size \n",
    "            raise IndexError(\"Hashtable is full\")\n",
    "        return (oldhash + collisionCount**2) % self.size # rehash calculation\n",
    "               \n",
    "    def __getitem__(self, key):\n",
    "        if not (isinstance(key, str) or isinstance(key, int)): # key needs to be an in or str\n",
    "            raise TypeError(\"Key must be a string or int\")\n",
    "            \n",
    "        val = self.get(key)\n",
    "        \n",
    "        if not val:  # it's None\n",
    "            raise KeyError\n",
    "        \n",
    "        return val\n",
    "        \n",
    "    def __setitem__(self, key, value):\n",
    "        if not (isinstance(key, str) or isinstance(key, int)):\n",
    "            raise TypeError(\"Key must be a string or int\")\n",
    "            \n",
    "        self.put(key, value)\n",
    "        \n",
    "    def __len__(self):\n",
    "        counter = 0\n",
    "        \n",
    "        for key in self.slots: # calclate the slots with keys\n",
    "            if key != None:\n",
    "                counter += 1\n",
    "                \n",
    "        return counter\n",
    "    \n",
    "    def __contains__(self, key):\n",
    "        return True if self.get(key) is not None else False\n",
    "    \n",
    "    def __str__(self):\n",
    "        d_str = \"{\" # set a dicitonary \n",
    "        for k, v in zip(self.slots, self.data): # create a ditionary,one to one relations \n",
    "            if k is not None:\n",
    "                d_str += f\"{repr(k)}:{repr(v)}, \" # format the dictionary\n",
    "        d_str = d_str[:-2] + \"}\" # print the last one without comma\n",
    "        return d_str\n",
    "    \n",
    "    def __repr__(self):\n",
    "        return self.__str__()"
   ]
  },
  {
   "cell_type": "markdown",
   "metadata": {
    "button": false,
    "new_sheet": false,
    "run_control": {
     "read_only": false
    }
   },
   "source": [
    "## Testing\n",
    "\n",
    "Show me that collision resolution is happening in a quadratic fashion. Perhaps instrument the `rehash` function to print some useful output when rehashing, or show the state of the `self.slots` list before or after a collision occurs. I'll leave it up to you to demonstrate."
   ]
  },
  {
   "cell_type": "code",
   "execution_count": 40,
   "metadata": {
    "button": false,
    "new_sheet": false,
    "run_control": {
     "read_only": false
    }
   },
   "outputs": [],
   "source": [
    "h=HashTable(15)"
   ]
  },
  {
   "cell_type": "code",
   "execution_count": 41,
   "metadata": {},
   "outputs": [
    {
     "name": "stdout",
     "output_type": "stream",
     "text": [
      "First hashvalue = 4\n",
      "No collision, hashvalue = 4\n",
      "First hashvalue = 4\n",
      "No collision, hashvalue = 4, update hashtable\n",
      "First hashvalue = 11\n",
      "No collision, hashvalue = 11\n",
      "First hashvalue = 4\n",
      "Collision, previous hashvalue = 4, next hashvalue = 5\n",
      "First hashvalue = 14\n",
      "No collision, hashvalue = 14\n",
      "First hashvalue = 8\n",
      "No collision, hashvalue = 8\n",
      "First hashvalue = 13\n",
      "No collision, hashvalue = 13\n",
      "First hashvalue = 0\n",
      "No collision, hashvalue = 0\n",
      "First hashvalue = 13\n",
      "Collision, previous hashvalue = 13, next hashvalue = 14\n",
      "Collision again, next hashvalue = 2\n",
      "First hashvalue = 2\n",
      "Collision, previous hashvalue = 2, next hashvalue = 3\n"
     ]
    }
   ],
   "source": [
    "h.put('apple', \"MacBook Pro\")\n",
    "h.put('apple', \"MacBook Air\")\n",
    "h.put('google', \"Pixel\")\n",
    "h.put('microsoft', \"Surface Book Pro\")\n",
    "h.put('amazon',\"Prime\")\n",
    "h.put('dell','Lemon')\n",
    "h.put('ibm', 'Watson')\n",
    "h.put('lenovo', 'Thinkpad')\n",
    "h.put('hp', 'Alienware')\n",
    "h.put('Acer', 'PC')"
   ]
  },
  {
   "cell_type": "code",
   "execution_count": 43,
   "metadata": {},
   "outputs": [
    {
     "name": "stdout",
     "output_type": "stream",
     "text": [
      "First hashvalue = 4\n",
      "No collision, hashvalue = 4, update hashtable\n"
     ]
    },
    {
     "data": {
      "text/plain": [
       "'macbook'"
      ]
     },
     "execution_count": 43,
     "metadata": {},
     "output_type": "execute_result"
    }
   ],
   "source": [
    "h['apple'] = 'macbook'\n",
    "h['apple']"
   ]
  },
  {
   "cell_type": "code",
   "execution_count": 44,
   "metadata": {},
   "outputs": [
    {
     "name": "stdout",
     "output_type": "stream",
     "text": [
      "{'lenovo':'Thinkpad', 'hp':'Alienware', 'Acer':'PC', 'apple':'macbook', 'microsoft':'Surface Book Pro', 'dell':'Lemon', 'google':'Pixel', 'ibm':'Watson', 'amazon':'Prime'}\n"
     ]
    }
   ],
   "source": [
    "print(h)"
   ]
  }
 ],
 "metadata": {
  "kernelspec": {
   "display_name": "Python 3",
   "language": "python",
   "name": "python3"
  },
  "language_info": {
   "codemirror_mode": {
    "name": "ipython",
    "version": 3
   },
   "file_extension": ".py",
   "mimetype": "text/x-python",
   "name": "python",
   "nbconvert_exporter": "python",
   "pygments_lexer": "ipython3",
   "version": "3.6.5"
  }
 },
 "nbformat": 4,
 "nbformat_minor": 2
}
